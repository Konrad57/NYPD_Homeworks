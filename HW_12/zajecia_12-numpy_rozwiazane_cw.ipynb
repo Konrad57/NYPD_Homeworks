{
 "cells": [
  {
   "cell_type": "markdown",
   "id": "60b33a87",
   "metadata": {},
   "source": [
    "# Biblioteka NumPy\n",
    "\n",
    "NumPy to jedna z podstawowych bibliotek umożliwiających przeprowadzanie zaawansowanych obliczeń matematycznych w Pythonie, na przykład do zastosowań naukowych. W szczególności została stworzona, aby umożliwić szybkie i sprawne przeprowadzanie obliczeń numerycznych, np. mnożenie i dodawanie macierzy, ich diagonalizacja czy odwracanie. Zawiera bardzo wiele sprawdzonych implementacji operacji na macierzach. W nomenklaturze NumPy wektory, macierze i wielowymiarowe struktury to tablice (ang. *array*). Szacuje się, że operacje na tablicach NumPy są ok. 50-krotnie szybsze od operacji na standardowych listach/tablicach w Pythonie (zaobserwujemy to na przykładzie w trakcie dzisiejszych zajęć). Nazwa NumPy pochodzi od \"Numerical Python\".\n",
    "\n",
    "Dokumentacja biblioteki NumPy jest dostępna pod adresem https://numpy.org/doc/."
   ]
  },
  {
   "cell_type": "markdown",
   "id": "595ab0c3",
   "metadata": {},
   "source": [
    "## Instalacja oraz import biblioteki NumPy\n",
    "\n",
    "Instalujemy za pomocą komendy pip:"
   ]
  },
  {
   "cell_type": "code",
   "execution_count": null,
   "id": "c305e5ce",
   "metadata": {},
   "outputs": [],
   "source": [
    "pip install numpy"
   ]
  },
  {
   "cell_type": "markdown",
   "id": "9439076b",
   "metadata": {},
   "source": [
    "oraz importujemy za pomocą instrukcji"
   ]
  },
  {
   "cell_type": "code",
   "execution_count": 1,
   "id": "9f0725a6",
   "metadata": {},
   "outputs": [],
   "source": [
    "import numpy as np"
   ]
  },
  {
   "cell_type": "markdown",
   "id": "52b9341d",
   "metadata": {},
   "source": [
    "## Podstawowy typ danych - numpy.ndarray\n",
    "\n",
    "Podstawowym typem danych biblioteki NumPy jest [np.ndarray](https://numpy.org/doc/stable/reference/generated/numpy.ndarray.html) (od ang. *n-dimensional array*), czyli tablica wielowymiarowa."
   ]
  },
  {
   "cell_type": "markdown",
   "id": "f18227d3",
   "metadata": {},
   "source": [
    "### Tworzenie tablicy w NumPy"
   ]
  },
  {
   "cell_type": "markdown",
   "id": "efbf322f",
   "metadata": {},
   "source": [
    "Tablica [numpy.ndarray](https://numpy.org/doc/stable/reference/generated/numpy.ndarray.html) może być tworzona na różne sposoby:\n",
    "- z list albo krotek za pomocą funkcji [np.array()](https://numpy.org/doc/stable/reference/generated/numpy.array.html),\n",
    "- przy pomocy funkcji generujących, np. [np.arange()](https://numpy.org/doc/stable/reference/generated/numpy.arange.html), [np.linspace()](https://numpy.org/doc/stable/reference/generated/numpy.linspace.html),\n",
    "- wczytując dane z plików.\n",
    "\n",
    "Na przykładach zobaczymy jak tworzyć tablice typu `numpy.ndarray`."
   ]
  },
  {
   "cell_type": "markdown",
   "id": "81375cbb",
   "metadata": {},
   "source": [
    "#### Tworzenie tablicy 1-wymiarowej (wektora)"
   ]
  },
  {
   "cell_type": "code",
   "execution_count": 2,
   "id": "26f10ec2",
   "metadata": {},
   "outputs": [
    {
     "data": {
      "text/plain": [
       "array([ 4,  5,  7,  9, 13])"
      ]
     },
     "execution_count": 2,
     "metadata": {},
     "output_type": "execute_result"
    }
   ],
   "source": [
    "v = np.array([4,5,7,9,13])\n",
    "v"
   ]
  },
  {
   "cell_type": "markdown",
   "id": "e4c75094",
   "metadata": {},
   "source": [
    "**Uwaga:** Poniższa próba utworzenia tablicy nie zadziała:"
   ]
  },
  {
   "cell_type": "code",
   "execution_count": 3,
   "id": "6c71d3b6",
   "metadata": {},
   "outputs": [
    {
     "ename": "TypeError",
     "evalue": "array() takes from 1 to 2 positional arguments but 4 were given",
     "output_type": "error",
     "traceback": [
      "\u001b[1;31m---------------------------------------------------------------------------\u001b[0m",
      "\u001b[1;31mTypeError\u001b[0m                                 Traceback (most recent call last)",
      "Cell \u001b[1;32mIn[3], line 1\u001b[0m\n\u001b[1;32m----> 1\u001b[0m \u001b[43mnp\u001b[49m\u001b[38;5;241;43m.\u001b[39;49m\u001b[43marray\u001b[49m\u001b[43m(\u001b[49m\u001b[38;5;241;43m1\u001b[39;49m\u001b[43m,\u001b[49m\u001b[43m \u001b[49m\u001b[38;5;241;43m2\u001b[39;49m\u001b[43m,\u001b[49m\u001b[43m \u001b[49m\u001b[38;5;241;43m3\u001b[39;49m\u001b[43m,\u001b[49m\u001b[43m \u001b[49m\u001b[38;5;241;43m4\u001b[39;49m\u001b[43m)\u001b[49m\n",
      "\u001b[1;31mTypeError\u001b[0m: array() takes from 1 to 2 positional arguments but 4 were given"
     ]
    }
   ],
   "source": [
    "np.array(1, 2, 3, 4)"
   ]
  },
  {
   "cell_type": "markdown",
   "id": "d34b6b5a",
   "metadata": {},
   "source": [
    "Zobaczmy, że rzeczywiście utworzyliśmy zmienną typu `np.ndarray`:"
   ]
  },
  {
   "cell_type": "code",
   "execution_count": 4,
   "id": "cca7e569",
   "metadata": {},
   "outputs": [
    {
     "name": "stdout",
     "output_type": "stream",
     "text": [
      "<class 'numpy.ndarray'>\n"
     ]
    }
   ],
   "source": [
    "print(type(v))"
   ]
  },
  {
   "cell_type": "markdown",
   "id": "68a12f78",
   "metadata": {},
   "source": [
    "O takiej tablicy możemy myśleć jako o wektorze\n",
    "\n",
    "\\begin{align}\n",
    "    v &= \\begin{bmatrix}\n",
    "           4 \\\\\n",
    "           5 \\\\\n",
    "           7 \\\\\n",
    "           9 \\\\\n",
    "           13\n",
    "         \\end{bmatrix}\n",
    "  \\end{align} "
   ]
  },
  {
   "cell_type": "markdown",
   "id": "e34fefc7",
   "metadata": {},
   "source": [
    "Tworzenie za pomocą funkcji [np.arange()](https://numpy.org/doc/stable/reference/generated/numpy.arange.html), gdzie kolejne parametry pozwalają określić zakres liczb wraz z odstępem liczbowym:"
   ]
  },
  {
   "cell_type": "code",
   "execution_count": 5,
   "id": "82204ae5",
   "metadata": {},
   "outputs": [
    {
     "data": {
      "text/plain": [
       "array([0, 1, 2, 3, 4, 5, 6, 7, 8, 9])"
      ]
     },
     "execution_count": 5,
     "metadata": {},
     "output_type": "execute_result"
    }
   ],
   "source": [
    "np.arange(10)"
   ]
  },
  {
   "cell_type": "code",
   "execution_count": 6,
   "id": "4611f38a",
   "metadata": {},
   "outputs": [
    {
     "data": {
      "text/plain": [
       "array([15, 17, 19, 21, 23, 25, 27, 29])"
      ]
     },
     "execution_count": 6,
     "metadata": {},
     "output_type": "execute_result"
    }
   ],
   "source": [
    "np.arange(start=15, stop=30, step=2)"
   ]
  },
  {
   "cell_type": "markdown",
   "id": "b1a022d2",
   "metadata": {},
   "source": [
    "Możemy też określić docelowy typ elementów:"
   ]
  },
  {
   "cell_type": "code",
   "execution_count": 7,
   "id": "e2a0d05a",
   "metadata": {},
   "outputs": [
    {
     "data": {
      "text/plain": [
       "array([4., 3., 2.], dtype=float32)"
      ]
     },
     "execution_count": 7,
     "metadata": {},
     "output_type": "execute_result"
    }
   ],
   "source": [
    "np.array([4, 3, 2], dtype=np.float32)"
   ]
  },
  {
   "cell_type": "markdown",
   "id": "74f32c37",
   "metadata": {},
   "source": [
    "**Uwaga:** Jak zwykle w Pythonie, prawy zakres jest otwarty z prawej strony:"
   ]
  },
  {
   "cell_type": "code",
   "execution_count": 8,
   "id": "7909374b",
   "metadata": {},
   "outputs": [
    {
     "data": {
      "text/plain": [
       "array([15, 17, 19, 21, 23, 25, 27])"
      ]
     },
     "execution_count": 8,
     "metadata": {},
     "output_type": "execute_result"
    }
   ],
   "source": [
    "np.arange(start=15, stop=29, step=2)"
   ]
  },
  {
   "cell_type": "code",
   "execution_count": 9,
   "id": "4fe2106f",
   "metadata": {},
   "outputs": [
    {
     "data": {
      "text/plain": [
       "array([29, 27, 25, 23, 21, 19, 17])"
      ]
     },
     "execution_count": 9,
     "metadata": {},
     "output_type": "execute_result"
    }
   ],
   "source": [
    "np.arange(start=29, stop=15, step=-2)"
   ]
  },
  {
   "cell_type": "markdown",
   "id": "8f59124b",
   "metadata": {},
   "source": [
    "I jeszcze tworzenie tablicy za pomocą funkcji [np.linspace()](https://numpy.org/doc/stable/reference/generated/numpy.linspace.html), gdzie kolejne parametry pozwalają określić końce zakresu liczbowego oraz liczbę elementów w wynikowej tablicy (parametr num). \n",
    "\n",
    "**Uwaga:** W tym przypadku zakres jest domknięty z lewej ale i z prawej strony! Wynikowa tablica będzie zawierała lewy i prawy koniec zakresu oraz num-2 liczb równo rozmieszczonych pomiędzy krańcami zakresu."
   ]
  },
  {
   "cell_type": "code",
   "execution_count": 10,
   "id": "aa13cc43",
   "metadata": {},
   "outputs": [
    {
     "data": {
      "text/plain": [
       "array([ 0.,  2.,  4.,  6.,  8., 10.])"
      ]
     },
     "execution_count": 10,
     "metadata": {},
     "output_type": "execute_result"
    }
   ],
   "source": [
    "np.linspace(start=0, stop=10, num=6)"
   ]
  },
  {
   "cell_type": "markdown",
   "id": "edc4fd9c",
   "metadata": {},
   "source": [
    "Korzystając z funkcji [np.zeros](https://numpy.org/doc/stable/reference/generated/numpy.zeros.html) możemy w prosty sposób utworzyć tablicę jednowymiarową zainicjalizowaną zerami o podanej liczbie elementów."
   ]
  },
  {
   "cell_type": "code",
   "execution_count": 11,
   "id": "49a37a75",
   "metadata": {},
   "outputs": [
    {
     "data": {
      "text/plain": [
       "array([0., 0., 0., 0., 0.])"
      ]
     },
     "execution_count": 11,
     "metadata": {},
     "output_type": "execute_result"
    }
   ],
   "source": [
    "np.zeros(5)"
   ]
  },
  {
   "cell_type": "markdown",
   "id": "1a7d4b95",
   "metadata": {},
   "source": [
    "Zera niekoniecznie muszą oznaczać liczbę 0. Zero jest pojmowane ogólnie, zależnie od typu elementów tablicy: "
   ]
  },
  {
   "cell_type": "code",
   "execution_count": 12,
   "id": "07a0c283",
   "metadata": {},
   "outputs": [
    {
     "data": {
      "text/plain": [
       "array(['', '', '', ''], dtype='<U1')"
      ]
     },
     "execution_count": 12,
     "metadata": {},
     "output_type": "execute_result"
    }
   ],
   "source": [
    "np.zeros(4, dtype='str')"
   ]
  },
  {
   "cell_type": "code",
   "execution_count": 13,
   "id": "ea713a50",
   "metadata": {},
   "outputs": [
    {
     "data": {
      "text/plain": [
       "array([False, False, False, False])"
      ]
     },
     "execution_count": 13,
     "metadata": {},
     "output_type": "execute_result"
    }
   ],
   "source": [
    "np.zeros(4, dtype='bool')"
   ]
  },
  {
   "cell_type": "markdown",
   "id": "171804a5",
   "metadata": {},
   "source": [
    "Istnieje też funkcja [np.ones](https://numpy.org/doc/stable/reference/generated/numpy.ones.html), która pozwala tworzyć tablice zainicjalizowane jedynkami:"
   ]
  },
  {
   "cell_type": "code",
   "execution_count": 14,
   "id": "fd77ab77",
   "metadata": {},
   "outputs": [
    {
     "data": {
      "text/plain": [
       "array([1., 1., 1., 1., 1.])"
      ]
     },
     "execution_count": 14,
     "metadata": {},
     "output_type": "execute_result"
    }
   ],
   "source": [
    "np.ones(5)"
   ]
  },
  {
   "cell_type": "code",
   "execution_count": 15,
   "id": "3ae8fd5b",
   "metadata": {},
   "outputs": [
    {
     "data": {
      "text/plain": [
       "array(['1', '1', '1', '1', '1'], dtype='<U1')"
      ]
     },
     "execution_count": 15,
     "metadata": {},
     "output_type": "execute_result"
    }
   ],
   "source": [
    "np.ones(5, dtype='str')"
   ]
  },
  {
   "cell_type": "markdown",
   "id": "a4b2678c",
   "metadata": {},
   "source": [
    "##### Różnice pomiędzy standardowymi listami w Pythonie a tablicami np.ndarray są następujące.\n",
    "\n",
    "Listy mogą zawierać elementy różnych typów:"
   ]
  },
  {
   "cell_type": "code",
   "execution_count": 16,
   "id": "078ecb21",
   "metadata": {},
   "outputs": [
    {
     "data": {
      "text/plain": [
       "[1, 3.4, 'Ala', ['ma', 'kota']]"
      ]
     },
     "execution_count": 16,
     "metadata": {},
     "output_type": "execute_result"
    }
   ],
   "source": [
    "[1, 3.4, 'Ala', ['ma', 'kota']]"
   ]
  },
  {
   "cell_type": "markdown",
   "id": "f47279d9",
   "metadata": {},
   "source": [
    "Elementy `np.ndarray` muszą być tego samego typu. Jeżeli nie są, funkcja `np.array` automatycznie \"uzgodni\" typy:"
   ]
  },
  {
   "cell_type": "code",
   "execution_count": 17,
   "id": "a6ec55ff",
   "metadata": {},
   "outputs": [
    {
     "data": {
      "text/plain": [
       "array(['1', 'ala', '3'], dtype='<U11')"
      ]
     },
     "execution_count": 17,
     "metadata": {},
     "output_type": "execute_result"
    }
   ],
   "source": [
    "np.array([1,'ala',3])"
   ]
  },
  {
   "cell_type": "code",
   "execution_count": 18,
   "id": "043e9a15",
   "metadata": {},
   "outputs": [
    {
     "data": {
      "text/plain": [
       "array([1.2, 1. , 5. ])"
      ]
     },
     "execution_count": 18,
     "metadata": {},
     "output_type": "execute_result"
    }
   ],
   "source": [
    "np.array((1.2, True, 5))"
   ]
  },
  {
   "cell_type": "markdown",
   "id": "96b8b755",
   "metadata": {},
   "source": [
    "Na tablicach możemy przeprowadzać typowe operacje matematyczne na poszczególnych elementach tablicy, tj. element po elemencie, przy użyciu jednego operatora lub funkcji bez pisania jakichkolwiek pętli (ang. *element-wise operations*):"
   ]
  },
  {
   "cell_type": "code",
   "execution_count": 19,
   "id": "32477279",
   "metadata": {},
   "outputs": [
    {
     "data": {
      "text/plain": [
       "array([1.33333333, 1.66666667, 2.33333333, 3.        , 4.33333333])"
      ]
     },
     "execution_count": 19,
     "metadata": {},
     "output_type": "execute_result"
    }
   ],
   "source": [
    "v/3"
   ]
  },
  {
   "cell_type": "code",
   "execution_count": 20,
   "id": "0c87b63e",
   "metadata": {},
   "outputs": [
    {
     "data": {
      "text/plain": [
       "array([-0.7568025 , -0.95892427,  0.6569866 ,  0.41211849,  0.42016704])"
      ]
     },
     "execution_count": 20,
     "metadata": {},
     "output_type": "execute_result"
    }
   ],
   "source": [
    "np.sin(v)"
   ]
  },
  {
   "cell_type": "markdown",
   "id": "97e6e2fb",
   "metadata": {},
   "source": [
    "Nie mamy takiej możliwości w przypadku standardowych list w Pythonie:"
   ]
  },
  {
   "cell_type": "code",
   "execution_count": 21,
   "id": "c2aaef6e",
   "metadata": {},
   "outputs": [
    {
     "ename": "TypeError",
     "evalue": "unsupported operand type(s) for /: 'list' and 'int'",
     "output_type": "error",
     "traceback": [
      "\u001b[1;31m---------------------------------------------------------------------------\u001b[0m",
      "\u001b[1;31mTypeError\u001b[0m                                 Traceback (most recent call last)",
      "Cell \u001b[1;32mIn[21], line 1\u001b[0m\n\u001b[1;32m----> 1\u001b[0m \u001b[43m[\u001b[49m\u001b[38;5;241;43m4\u001b[39;49m\u001b[43m,\u001b[49m\u001b[38;5;241;43m5\u001b[39;49m\u001b[43m,\u001b[49m\u001b[38;5;241;43m7\u001b[39;49m\u001b[43m,\u001b[49m\u001b[38;5;241;43m9\u001b[39;49m\u001b[43m,\u001b[49m\u001b[38;5;241;43m13\u001b[39;49m\u001b[43m]\u001b[49m\u001b[38;5;241;43m/\u001b[39;49m\u001b[38;5;241;43m3\u001b[39;49m\n",
      "\u001b[1;31mTypeError\u001b[0m: unsupported operand type(s) for /: 'list' and 'int'"
     ]
    }
   ],
   "source": [
    "[4,5,7,9,13]/3"
   ]
  },
  {
   "cell_type": "markdown",
   "id": "dad31427",
   "metadata": {},
   "source": [
    "Dla list musimy użyć pętli, na przykład"
   ]
  },
  {
   "cell_type": "code",
   "execution_count": 22,
   "id": "52c34764",
   "metadata": {},
   "outputs": [
    {
     "data": {
      "text/plain": [
       "[1.3333333333333333,\n",
       " 1.6666666666666667,\n",
       " 2.3333333333333335,\n",
       " 3.0,\n",
       " 4.333333333333333]"
      ]
     },
     "execution_count": 22,
     "metadata": {},
     "output_type": "execute_result"
    }
   ],
   "source": [
    "[x/3 for x in [4,5,7,9,13]]"
   ]
  },
  {
   "cell_type": "markdown",
   "id": "66f71b80",
   "metadata": {},
   "source": [
    "Inne różnice są związane w wymaganiami pamięciowymi. \n",
    " - Po pierwsze, ze względu na konieczność przechowywania informacji o typie poszczególnych elementów, listy zajmują więcej miejsca w pamięci. \n",
    " - Po drugie, elementy listy nie muszą być przechowywane w sposób ciągły w pamięci w odróżnieniu od elementów tablic `np.ndarray`."
   ]
  },
  {
   "cell_type": "markdown",
   "id": "734bd584",
   "metadata": {},
   "source": [
    "#### Tworzenie tablicy wielowymiarowej"
   ]
  },
  {
   "cell_type": "markdown",
   "id": "97f46bb9",
   "metadata": {},
   "source": [
    "Tablicę wielowymiarową (np. reprezentującą macierz) możemy utworzyć za pomocą funkcji `np.array` z argumentem będącym zagnieżdżoną listą, tzn. listą, której elementami są inne listy:"
   ]
  },
  {
   "cell_type": "code",
   "execution_count": 23,
   "id": "5b2dd4eb",
   "metadata": {},
   "outputs": [
    {
     "data": {
      "text/plain": [
       "array([[1., 2., 3.],\n",
       "       [4., 5., 6.]])"
      ]
     },
     "execution_count": 23,
     "metadata": {},
     "output_type": "execute_result"
    }
   ],
   "source": [
    "M = np.array([[1,2.0,3],[4,5,6]])\n",
    "M"
   ]
  },
  {
   "cell_type": "markdown",
   "id": "faedcc34",
   "metadata": {},
   "source": [
    "Zwróćmy uwagę jakiego typu są elementy tablicy M w powyższym przykładzie.\n",
    "\n",
    "Jeszcze jeden przykład:"
   ]
  },
  {
   "cell_type": "code",
   "execution_count": 24,
   "id": "da89cd52",
   "metadata": {},
   "outputs": [
    {
     "data": {
      "text/plain": [
       "array([[1.+0.j, 2.+0.j],\n",
       "       [3.+0.j, 4.+0.j]])"
      ]
     },
     "execution_count": 24,
     "metadata": {},
     "output_type": "execute_result"
    }
   ],
   "source": [
    "np.array([[1, 2], [3, 4]], dtype=complex)"
   ]
  },
  {
   "cell_type": "markdown",
   "id": "16d75b84",
   "metadata": {},
   "source": [
    "Spróbujmy utworzyć tablicę 3-wymiarową:"
   ]
  },
  {
   "cell_type": "code",
   "execution_count": 25,
   "id": "d6323346",
   "metadata": {},
   "outputs": [
    {
     "name": "stdout",
     "output_type": "stream",
     "text": [
      "[[[ 1.  2.  3.]\n",
      "  [-8. -4. -2.]]\n",
      "\n",
      " [[ 4.  5.  6.]\n",
      "  [ 9. -2.  1.]]]\n"
     ]
    }
   ],
   "source": [
    "M3D = np.array([[[1,2.0,3],[-8,-4,-2]],[[4,5,6],[9,-2,1.0]]])\n",
    "print(M3D)"
   ]
  },
  {
   "cell_type": "markdown",
   "id": "af6b25e7",
   "metadata": {},
   "source": [
    "Oczywiście musimy zwrócić uwagę na zgodność liczby elementów dla poszczególnych wymiarów. W przeciwnym przypadku wynik tworzenia tablicy może być nieco zaskakujący, np. w NumPy w wersji 1.23.5 wynikiem będzie \n",
    "\n",
    "array([[list([1, 2.0]), list([-8, -4, -2])],[list([4, 5, 6]), list([9, -2, 1.0])]], dtype=object)),\n",
    "\n",
    "lub po prostu pojawi się komunikat o błędzie (w nowszych wersjach NumPy):"
   ]
  },
  {
   "cell_type": "code",
   "execution_count": 26,
   "id": "8f41b824",
   "metadata": {},
   "outputs": [
    {
     "name": "stdout",
     "output_type": "stream",
     "text": [
      "NumPy version: 1.23.5\n"
     ]
    },
    {
     "name": "stderr",
     "output_type": "stream",
     "text": [
      "C:\\Users\\DELL\\AppData\\Local\\Temp\\ipykernel_20628\\1885040837.py:2: VisibleDeprecationWarning: Creating an ndarray from ragged nested sequences (which is a list-or-tuple of lists-or-tuples-or ndarrays with different lengths or shapes) is deprecated. If you meant to do this, you must specify 'dtype=object' when creating the ndarray.\n",
      "  np.array([[[1,2.0],[-8,-4,-2]],[[4,5,6],[9,-2,1.0]]])\n"
     ]
    },
    {
     "data": {
      "text/plain": [
       "array([[list([1, 2.0]), list([-8, -4, -2])],\n",
       "       [list([4, 5, 6]), list([9, -2, 1.0])]], dtype=object)"
      ]
     },
     "execution_count": 26,
     "metadata": {},
     "output_type": "execute_result"
    }
   ],
   "source": [
    "print(f\"NumPy version: {np.version.version}\")\n",
    "np.array([[[1,2.0],[-8,-4,-2]],[[4,5,6],[9,-2,1.0]]])"
   ]
  },
  {
   "cell_type": "markdown",
   "id": "600204a0",
   "metadata": {},
   "source": [
    "### Atrybuty obiektów NumPy ndarray"
   ]
  },
  {
   "cell_type": "markdown",
   "id": "a307ab79",
   "metadata": {},
   "source": [
    "[ndarray.ndim](https://numpy.org/doc/stable/reference/generated/numpy.ndarray.ndim.html): zwraca liczbę całkowitą dodatnią określającą liczbę wymiarów tablicy. \n",
    "\n",
    "Uwaga: W terminologii NumPy wymiary określa się mianem \"osi\" (ang. *axes*). Mówimy, że tablica 2-wymiarowa ma dwie osie. Wymiar odpwiadający wierszom macierzy to oś 0 zaś kolumnom to oś 1. "
   ]
  },
  {
   "cell_type": "code",
   "execution_count": 27,
   "id": "11c80720",
   "metadata": {},
   "outputs": [
    {
     "name": "stdout",
     "output_type": "stream",
     "text": [
      "Liczba wymiarów tablicy v: 1\n",
      "Liczba wymiarów tablicy M: 2\n",
      "Liczba wymiarów tablicy M3D: 3\n"
     ]
    }
   ],
   "source": [
    "print(f\"Liczba wymiarów tablicy v: {v.ndim}\")\n",
    "print(f\"Liczba wymiarów tablicy M: {M.ndim}\")\n",
    "print(f\"Liczba wymiarów tablicy M3D: {M3D.ndim}\")"
   ]
  },
  {
   "cell_type": "markdown",
   "id": "ea83affd",
   "metadata": {},
   "source": [
    "Kształt tablicy NumPy opisuje krotka liczb całkowitych dodatnich, określająca zakres wartości indeksów dla poszczególnych wymiarów (osi). Krotka ta dana jest przez atrybut [ndarray.shape](https://numpy.org/doc/stable/reference/generated/numpy.ndarray.shape.html):"
   ]
  },
  {
   "cell_type": "code",
   "execution_count": 28,
   "id": "78a1cf2a",
   "metadata": {},
   "outputs": [
    {
     "name": "stdout",
     "output_type": "stream",
     "text": [
      "(5,)\n",
      "(2, 3)\n",
      "(2, 2, 3)\n"
     ]
    }
   ],
   "source": [
    "print(v.shape)\n",
    "print(M.shape)\n",
    "print(M3D.shape)"
   ]
  },
  {
   "cell_type": "markdown",
   "id": "36e0d8d2",
   "metadata": {},
   "source": [
    "Korzystając z możliwości określania kszałtu tablicy, możemy tworzyć tablice o zadanym kszatłcie w jeszcze jeden sposób:"
   ]
  },
  {
   "cell_type": "code",
   "execution_count": 29,
   "id": "dea90f1b",
   "metadata": {},
   "outputs": [
    {
     "data": {
      "text/plain": [
       "array([[0., 0., 0., 0.],\n",
       "       [0., 0., 0., 0.]])"
      ]
     },
     "execution_count": 29,
     "metadata": {},
     "output_type": "execute_result"
    }
   ],
   "source": [
    "np.zeros((2,4))"
   ]
  },
  {
   "cell_type": "code",
   "execution_count": 30,
   "id": "15ecdcdc",
   "metadata": {},
   "outputs": [
    {
     "data": {
      "text/plain": [
       "array([[[4., 4., 4., 4.],\n",
       "        [4., 4., 4., 4.]],\n",
       "\n",
       "       [[4., 4., 4., 4.],\n",
       "        [4., 4., 4., 4.]],\n",
       "\n",
       "       [[4., 4., 4., 4.],\n",
       "        [4., 4., 4., 4.]]])"
      ]
     },
     "execution_count": 30,
     "metadata": {},
     "output_type": "execute_result"
    }
   ],
   "source": [
    "np.ones((3,2,4)) * 4"
   ]
  },
  {
   "cell_type": "markdown",
   "id": "c26937c7",
   "metadata": {},
   "source": [
    "Możemy też utworzyć tablicę o zadanym kształcie zainicjalizowaną losowymi liczbami z rozkładu standardowego, tj. normalnego o wartości oczekiwanej 0 i wariancji 1, N(0,1):"
   ]
  },
  {
   "cell_type": "code",
   "execution_count": 31,
   "id": "49eec9bc",
   "metadata": {},
   "outputs": [
    {
     "data": {
      "text/plain": [
       "array([[[ 1.01121371,  1.18504413, -0.45183911,  1.58979041,\n",
       "          0.28041304],\n",
       "        [-0.08632154, -0.35906451, -0.16691673,  0.32218143,\n",
       "         -0.94324719],\n",
       "        [ 1.99368707, -0.83550044,  0.03367832,  0.4602137 ,\n",
       "         -0.07525476],\n",
       "        [-1.35986587, -0.12199477,  1.86904687,  0.05411054,\n",
       "         -0.7622328 ]],\n",
       "\n",
       "       [[-1.04699944, -0.34149565,  0.79988505,  0.38219407,\n",
       "         -2.4108141 ],\n",
       "        [ 1.67341456, -1.04956904,  0.43180197,  0.48921789,\n",
       "         -0.16718823],\n",
       "        [ 0.00577131, -1.24756108, -0.15987181,  1.50806763,\n",
       "          0.70606679],\n",
       "        [-0.82483238,  0.88795617,  0.1914442 , -1.26104944,\n",
       "          0.19145808]]])"
      ]
     },
     "execution_count": 31,
     "metadata": {},
     "output_type": "execute_result"
    }
   ],
   "source": [
    "np.random.standard_normal((2,4,5))"
   ]
  },
  {
   "cell_type": "markdown",
   "id": "f7544572",
   "metadata": {},
   "source": [
    "Wartość atrybutu [ndarray.size](https://numpy.org/doc/stable/reference/generated/numpy.ndarray.size.html) określa liczbę elementów tablicy będącą iloczynem zakresu indeksów dla poszczególnych wymiarów:"
   ]
  },
  {
   "cell_type": "code",
   "execution_count": 32,
   "id": "b25bfa4e",
   "metadata": {},
   "outputs": [
    {
     "name": "stdout",
     "output_type": "stream",
     "text": [
      "5\n",
      "6\n",
      "12\n"
     ]
    }
   ],
   "source": [
    "print(v.size)\n",
    "print(M.size)\n",
    "print(M3D.size)"
   ]
  },
  {
   "cell_type": "markdown",
   "id": "d35a8c88",
   "metadata": {},
   "source": [
    "Atrybut [ndarray.dtype](https://numpy.org/doc/stable/reference/generated/numpy.ndarray.dtype.html) określa typ elementów w tablicy. Jak wcześniej zostało wspomniane, wszystkie elementy tablicy muszą być tego samego typu. "
   ]
  },
  {
   "cell_type": "code",
   "execution_count": 33,
   "id": "6257d87e",
   "metadata": {},
   "outputs": [
    {
     "data": {
      "text/plain": [
       "dtype('float64')"
      ]
     },
     "execution_count": 33,
     "metadata": {},
     "output_type": "execute_result"
    }
   ],
   "source": [
    "M.dtype"
   ]
  },
  {
   "cell_type": "markdown",
   "id": "fd8c9a83",
   "metadata": {},
   "source": [
    "Atrybut [ndarray.itemsize](https://numpy.org/doc/stable/reference/generated/numpy.ndarray.itemsize.html) określa rozmiar elementu tablicy w bajtach. "
   ]
  },
  {
   "cell_type": "code",
   "execution_count": 34,
   "id": "f177ba5c",
   "metadata": {},
   "outputs": [
    {
     "data": {
      "text/plain": [
       "8"
      ]
     },
     "execution_count": 34,
     "metadata": {},
     "output_type": "execute_result"
    }
   ],
   "source": [
    "M.itemsize"
   ]
  },
  {
   "cell_type": "markdown",
   "id": "16793ef2",
   "metadata": {},
   "source": [
    "### Dostęp do elementów tablicy: indeksowanie i slicing\n",
    "\n",
    "Dostęp do elementów jest możliwy poprzez użycie notacji indeksowej (tablica[i]) jak i wycinkowej (tablica[i:j])"
   ]
  },
  {
   "cell_type": "code",
   "execution_count": 35,
   "id": "a15d75e9",
   "metadata": {},
   "outputs": [
    {
     "data": {
      "text/plain": [
       "6.0"
      ]
     },
     "execution_count": 35,
     "metadata": {},
     "output_type": "execute_result"
    }
   ],
   "source": [
    "M[1,2]"
   ]
  },
  {
   "cell_type": "code",
   "execution_count": 36,
   "id": "482a68c7",
   "metadata": {},
   "outputs": [
    {
     "data": {
      "text/plain": [
       "6.0"
      ]
     },
     "execution_count": 36,
     "metadata": {},
     "output_type": "execute_result"
    }
   ],
   "source": [
    "M[1][2]"
   ]
  },
  {
   "cell_type": "markdown",
   "id": "20558441",
   "metadata": {},
   "source": [
    "#### Tworzenie podtablic poprzez \"wycinanie\" (ang. *slicing*).\n",
    "\n",
    "Oto kilka przykładów:"
   ]
  },
  {
   "cell_type": "code",
   "execution_count": 37,
   "id": "93b0df5d",
   "metadata": {},
   "outputs": [
    {
     "data": {
      "text/plain": [
       "array([[ 1, 40],\n",
       "       [ 1,  4]])"
      ]
     },
     "execution_count": 37,
     "metadata": {},
     "output_type": "execute_result"
    }
   ],
   "source": [
    "A = np.array([[ -7, 0, 10, 20],\n",
    "              [ -5, 1, 40, 200],\n",
    "              [ -1, 1, 4, 30]])\n",
    "\n",
    "A[1:,1:3]"
   ]
  },
  {
   "cell_type": "markdown",
   "id": "ca87a2bf",
   "metadata": {},
   "source": [
    "Podtablica składająca się z tablicy A bez pierwszej kolumny:"
   ]
  },
  {
   "cell_type": "code",
   "execution_count": 38,
   "id": "7815717d",
   "metadata": {},
   "outputs": [
    {
     "data": {
      "text/plain": [
       "array([[  0,  10,  20],\n",
       "       [  1,  40, 200],\n",
       "       [  1,   4,  30]])"
      ]
     },
     "execution_count": 38,
     "metadata": {},
     "output_type": "execute_result"
    }
   ],
   "source": [
    "A[:,1:]"
   ]
  },
  {
   "cell_type": "markdown",
   "id": "56693c9b",
   "metadata": {},
   "source": [
    "Podtablica składająca się z drugiej kolumny tablicy A:"
   ]
  },
  {
   "cell_type": "code",
   "execution_count": 39,
   "id": "29b7fa7e",
   "metadata": {},
   "outputs": [
    {
     "data": {
      "text/plain": [
       "array([0, 1, 1])"
      ]
     },
     "execution_count": 39,
     "metadata": {},
     "output_type": "execute_result"
    }
   ],
   "source": [
    "A[:,1]"
   ]
  },
  {
   "cell_type": "markdown",
   "id": "c39feb95",
   "metadata": {},
   "source": [
    "A co się stało z kształtem wynikowej tablicy?"
   ]
  },
  {
   "cell_type": "code",
   "execution_count": 40,
   "id": "3bef3346",
   "metadata": {},
   "outputs": [
    {
     "name": "stdout",
     "output_type": "stream",
     "text": [
      "(3, 4)\n",
      "(3,)\n"
     ]
    }
   ],
   "source": [
    "print(A.shape)\n",
    "print(A[:,1].shape)"
   ]
  },
  {
   "cell_type": "markdown",
   "id": "cc4a9491",
   "metadata": {},
   "source": [
    "Ograniczenie się do pojedynczego punktu w danym wymiarze, powoduje degenerację tego wymiaru. Uzyskuje się tablicę, w której liczba wymiarów jest mniejsza o jeden.\n",
    "\n",
    "Jeżeli zależałoby nam na zachowaniu liczby wymiarów, możemy zrobić to tak:"
   ]
  },
  {
   "cell_type": "code",
   "execution_count": 41,
   "id": "cf2a836f",
   "metadata": {},
   "outputs": [
    {
     "data": {
      "text/plain": [
       "array([[0],\n",
       "       [1],\n",
       "       [1]])"
      ]
     },
     "execution_count": 41,
     "metadata": {},
     "output_type": "execute_result"
    }
   ],
   "source": [
    "A[:,1:2]"
   ]
  },
  {
   "cell_type": "code",
   "execution_count": 42,
   "id": "baa03182",
   "metadata": {},
   "outputs": [
    {
     "data": {
      "text/plain": [
       "(3, 1)"
      ]
     },
     "execution_count": 42,
     "metadata": {},
     "output_type": "execute_result"
    }
   ],
   "source": [
    "A[:,1:2].shape"
   ]
  },
  {
   "cell_type": "markdown",
   "id": "3dcd769d",
   "metadata": {},
   "source": [
    "Można też wybrać co któryś element z tablicy jednowymiarowej:"
   ]
  },
  {
   "cell_type": "code",
   "execution_count": 43,
   "id": "56eb84e2",
   "metadata": {},
   "outputs": [
    {
     "name": "stdout",
     "output_type": "stream",
     "text": [
      "[   0    1    8   27   64  125  216  343  512  729 1000 1331]\n"
     ]
    },
    {
     "data": {
      "text/plain": [
       "array([ 0,  8, 64], dtype=int32)"
      ]
     },
     "execution_count": 43,
     "metadata": {},
     "output_type": "execute_result"
    }
   ],
   "source": [
    "a = np.arange(12)**3\n",
    "print(a)\n",
    "a[:6:2]"
   ]
  },
  {
   "cell_type": "markdown",
   "id": "9ae1a13c",
   "metadata": {},
   "source": [
    "Lub podmienić:"
   ]
  },
  {
   "cell_type": "code",
   "execution_count": 44,
   "id": "136e9afc",
   "metadata": {},
   "outputs": [
    {
     "data": {
      "text/plain": [
       "array([ -10,    1,  -10,   27,  -10,  125,  216,  343,  512,  729, 1000,\n",
       "       1331], dtype=int32)"
      ]
     },
     "execution_count": 44,
     "metadata": {},
     "output_type": "execute_result"
    }
   ],
   "source": [
    "a[:6:2] = -10\n",
    "a"
   ]
  },
  {
   "cell_type": "markdown",
   "id": "60e0965a",
   "metadata": {},
   "source": [
    "Podobnie w przypadku tablicy wielowymiarowej:"
   ]
  },
  {
   "cell_type": "code",
   "execution_count": 45,
   "id": "f049d5a7",
   "metadata": {},
   "outputs": [
    {
     "data": {
      "text/plain": [
       "array([[ 0,  1,  2,  3,  4,  5,  6,  7,  8],\n",
       "       [ 9, 10, 11, 12, 13, 14, 15, 16, 17],\n",
       "       [18, 19, 20, 21, 22, 23, 24, 25, 26],\n",
       "       [27, 28, 29, 30, 31, 32, 33, 34, 35],\n",
       "       [36, 37, 38, 39, 40, 41, 42, 43, 44],\n",
       "       [45, 46, 47, 48, 49, 50, 51, 52, 53],\n",
       "       [54, 55, 56, 57, 58, 59, 60, 61, 62],\n",
       "       [63, 64, 65, 66, 67, 68, 69, 70, 71]])"
      ]
     },
     "execution_count": 45,
     "metadata": {},
     "output_type": "execute_result"
    }
   ],
   "source": [
    "A = np.array(range(0,8*9)).reshape((8,9))\n",
    "A"
   ]
  },
  {
   "cell_type": "code",
   "execution_count": 46,
   "id": "c31e729d",
   "metadata": {},
   "outputs": [
    {
     "data": {
      "text/plain": [
       "array([[20, 23, 26],\n",
       "       [38, 41, 44],\n",
       "       [56, 59, 62]])"
      ]
     },
     "execution_count": 46,
     "metadata": {},
     "output_type": "execute_result"
    }
   ],
   "source": [
    "A[2:7:2,2::3]"
   ]
  },
  {
   "cell_type": "code",
   "execution_count": 47,
   "id": "6ac30ffb",
   "metadata": {},
   "outputs": [
    {
     "data": {
      "text/plain": [
       "array([[  0,   1,   2,   3,   4,   5,   6,   7,   8],\n",
       "       [  9,  10,  11,  12,  13,  14,  15,  16,  17],\n",
       "       [ 18,  19, -13,  21,  22, -13,  24,  25, -13],\n",
       "       [ 27,  28,  29,  30,  31,  32,  33,  34,  35],\n",
       "       [ 36,  37, -13,  39,  40, -13,  42,  43, -13],\n",
       "       [ 45,  46,  47,  48,  49,  50,  51,  52,  53],\n",
       "       [ 54,  55, -13,  57,  58, -13,  60,  61, -13],\n",
       "       [ 63,  64,  65,  66,  67,  68,  69,  70,  71]])"
      ]
     },
     "execution_count": 47,
     "metadata": {},
     "output_type": "execute_result"
    }
   ],
   "source": [
    "A[2:7:2,2::3] = -13\n",
    "A"
   ]
  },
  {
   "cell_type": "markdown",
   "id": "582bdcbe",
   "metadata": {},
   "source": [
    "\"Wycięcia\" ostatniej kolumny możemy dokonać w ten sposób:"
   ]
  },
  {
   "cell_type": "code",
   "execution_count": 48,
   "id": "93e4e5f3",
   "metadata": {},
   "outputs": [
    {
     "data": {
      "text/plain": [
       "array([[3.],\n",
       "       [6.]])"
      ]
     },
     "execution_count": 48,
     "metadata": {},
     "output_type": "execute_result"
    }
   ],
   "source": [
    "M[:,2:3]"
   ]
  },
  {
   "cell_type": "markdown",
   "id": "648d570d",
   "metadata": {},
   "source": [
    "W prosty sposób możemy odwrócić tablicę:"
   ]
  },
  {
   "cell_type": "code",
   "execution_count": 49,
   "id": "2bc9b2df",
   "metadata": {},
   "outputs": [
    {
     "data": {
      "text/plain": [
       "array([13, 10,  9,  7,  4,  2])"
      ]
     },
     "execution_count": 49,
     "metadata": {},
     "output_type": "execute_result"
    }
   ],
   "source": [
    "a = np.array([2,4,7,9,10,13])\n",
    "a[::-1]"
   ]
  },
  {
   "cell_type": "markdown",
   "id": "bfdc0db7",
   "metadata": {},
   "source": [
    "### Indeksowanie tablic tablicami"
   ]
  },
  {
   "cell_type": "markdown",
   "id": "ba378395",
   "metadata": {},
   "source": [
    "Do wybrania elementów z tablicy można użyć innej tablicy. W tym celu można użyć:\n",
    "- tablicy/listy indeksów - wybieramy te elementy, które uzyskalibyśmy indeksując każdym z indeksów z osobna;\n",
    "- tablicy wartości logicznych (boolean) rozmiaru tablicy z danymi. Wybieramy te elementy, którym odpowiada wartość True w macierzy indeksującej.\n",
    "\n",
    "**Uwaga:** Wynikiem jest tablica 1-wymiarowa. "
   ]
  },
  {
   "cell_type": "code",
   "execution_count": 50,
   "id": "9ecc90ad",
   "metadata": {},
   "outputs": [
    {
     "data": {
      "text/plain": [
       "array([ 5,  9, 13])"
      ]
     },
     "execution_count": 50,
     "metadata": {},
     "output_type": "execute_result"
    }
   ],
   "source": [
    "v[[1,3,4]]"
   ]
  },
  {
   "cell_type": "code",
   "execution_count": 51,
   "id": "a6c77ca5",
   "metadata": {},
   "outputs": [
    {
     "data": {
      "text/plain": [
       "array([[False,  True, False],\n",
       "       [ True, False,  True]])"
      ]
     },
     "execution_count": 51,
     "metadata": {},
     "output_type": "execute_result"
    }
   ],
   "source": [
    "M % 2 == 0"
   ]
  },
  {
   "cell_type": "code",
   "execution_count": 52,
   "id": "d4a14cbe",
   "metadata": {},
   "outputs": [
    {
     "data": {
      "text/plain": [
       "array([2., 4., 6.])"
      ]
     },
     "execution_count": 52,
     "metadata": {},
     "output_type": "execute_result"
    }
   ],
   "source": [
    "M[M % 2 == 0]"
   ]
  },
  {
   "cell_type": "markdown",
   "id": "40c53903",
   "metadata": {},
   "source": [
    "### Zmienianie kształtu tablicy\n",
    "\n",
    "Możemy zmieniać kształt tablicy za pomocą metody np.ndarray.reshape(). Zmiana kształtu musi jednak zachowywać całkowitą liczbę elementów tablicy, w przeciwnym wypadku zgłaszany jest błąd."
   ]
  },
  {
   "cell_type": "code",
   "execution_count": 53,
   "id": "6881301b",
   "metadata": {},
   "outputs": [
    {
     "data": {
      "text/plain": [
       "array([10, 11, 12, 13, 14, 15, 16, 17, 18, 19, 20, 21])"
      ]
     },
     "execution_count": 53,
     "metadata": {},
     "output_type": "execute_result"
    }
   ],
   "source": [
    "t = np.arange(10,22)\n",
    "t"
   ]
  },
  {
   "cell_type": "code",
   "execution_count": 54,
   "id": "255e737b",
   "metadata": {},
   "outputs": [
    {
     "data": {
      "text/plain": [
       "array([[10, 11, 12, 13],\n",
       "       [14, 15, 16, 17],\n",
       "       [18, 19, 20, 21]])"
      ]
     },
     "execution_count": 54,
     "metadata": {},
     "output_type": "execute_result"
    }
   ],
   "source": [
    "t.reshape(3,4)"
   ]
  },
  {
   "cell_type": "code",
   "execution_count": 55,
   "id": "2dc8adbf",
   "metadata": {},
   "outputs": [
    {
     "data": {
      "text/plain": [
       "array([[[ 0,  1,  2,  3],\n",
       "        [ 4,  5,  6,  7],\n",
       "        [ 8,  9, 10, 11]],\n",
       "\n",
       "       [[12, 13, 14, 15],\n",
       "        [16, 17, 18, 19],\n",
       "        [20, 21, 22, 23]]])"
      ]
     },
     "execution_count": 55,
     "metadata": {},
     "output_type": "execute_result"
    }
   ],
   "source": [
    "np.arange(24).reshape(2, 3, 4)"
   ]
  },
  {
   "cell_type": "markdown",
   "id": "9e9f66e4",
   "metadata": {},
   "source": [
    "## Ćwiczenie 1\n",
    "\n",
    "Utwórz macierz M o wymiarach 1000x1000 o elementach A[i,j] == 2 * i - 1 * j. "
   ]
  },
  {
   "cell_type": "code",
   "execution_count": 57,
   "id": "e1d100ad",
   "metadata": {},
   "outputs": [
    {
     "data": {
      "text/plain": [
       "array([[   0,   -1,   -2, ..., -997, -998, -999],\n",
       "       [   2,    1,    0, ..., -995, -996, -997],\n",
       "       [   4,    3,    2, ..., -993, -994, -995],\n",
       "       ...,\n",
       "       [1994, 1993, 1992, ...,  997,  996,  995],\n",
       "       [1996, 1995, 1994, ...,  999,  998,  997],\n",
       "       [1998, 1997, 1996, ..., 1001, 1000,  999]])"
      ]
     },
     "execution_count": 57,
     "metadata": {},
     "output_type": "execute_result"
    }
   ],
   "source": [
    "# Rozwiązanie\n",
    "i = np.arange(1000).reshape(1000, 1)  # column vector\n",
    "j = np.arange(1000).reshape(1, 1000)  # row vector\n",
    "A = 2 * i - j\n",
    "A"
   ]
  },
  {
   "cell_type": "markdown",
   "id": "44f5fe60",
   "metadata": {},
   "source": [
    "Za pomocą metody [np.ndarray.flatten](https://numpy.org/doc/stable/reference/generated/numpy.ndarray.flatten.html) możemy tablicę n-wymiarową zmienić/\"spłaszczyć\" w tablicę 1-wymiarową:"
   ]
  },
  {
   "cell_type": "code",
   "execution_count": 58,
   "id": "982382b0",
   "metadata": {},
   "outputs": [
    {
     "data": {
      "text/plain": [
       "array([[ 0.56318896,  0.67926888, -1.35467019],\n",
       "       [-1.32889644,  0.62610015,  1.85297717],\n",
       "       [-0.39720981, -0.16027367, -1.25552037],\n",
       "       [-0.166     , -1.83747733,  0.74456104]])"
      ]
     },
     "execution_count": 58,
     "metadata": {},
     "output_type": "execute_result"
    }
   ],
   "source": [
    "t = np.random.standard_normal((4,3))\n",
    "t"
   ]
  },
  {
   "cell_type": "markdown",
   "id": "73c2089d",
   "metadata": {},
   "source": [
    "Spłaszczanie wierszami:"
   ]
  },
  {
   "cell_type": "code",
   "execution_count": 59,
   "id": "4221cbfb",
   "metadata": {},
   "outputs": [
    {
     "data": {
      "text/plain": [
       "array([ 0.56318896,  0.67926888, -1.35467019, -1.32889644,  0.62610015,\n",
       "        1.85297717, -0.39720981, -0.16027367, -1.25552037, -0.166     ,\n",
       "       -1.83747733,  0.74456104])"
      ]
     },
     "execution_count": 59,
     "metadata": {},
     "output_type": "execute_result"
    }
   ],
   "source": [
    "t.flatten(order='C')"
   ]
  },
  {
   "cell_type": "markdown",
   "id": "e96120dd",
   "metadata": {},
   "source": [
    "Spłaszczanie kolumnami:"
   ]
  },
  {
   "cell_type": "code",
   "execution_count": 60,
   "id": "b419a493",
   "metadata": {},
   "outputs": [
    {
     "data": {
      "text/plain": [
       "array([ 0.56318896, -1.32889644, -0.39720981, -0.166     ,  0.67926888,\n",
       "        0.62610015, -0.16027367, -1.83747733, -1.35467019,  1.85297717,\n",
       "       -1.25552037,  0.74456104])"
      ]
     },
     "execution_count": 60,
     "metadata": {},
     "output_type": "execute_result"
    }
   ],
   "source": [
    "t.flatten(order='F')"
   ]
  },
  {
   "cell_type": "markdown",
   "id": "8a8f5f67",
   "metadata": {},
   "source": [
    "Transponowanie tablicy"
   ]
  },
  {
   "cell_type": "code",
   "execution_count": 61,
   "id": "4fd8f2a6",
   "metadata": {},
   "outputs": [
    {
     "name": "stdout",
     "output_type": "stream",
     "text": [
      "[[2 3 4]\n",
      " [5 6 7]]\n"
     ]
    },
    {
     "data": {
      "text/plain": [
       "array([[2, 5],\n",
       "       [3, 6],\n",
       "       [4, 7]])"
      ]
     },
     "execution_count": 61,
     "metadata": {},
     "output_type": "execute_result"
    }
   ],
   "source": [
    "a = np.array([2,3,4,5,6,7]).reshape((2,3))\n",
    "print(a)\n",
    "a.T"
   ]
  },
  {
   "cell_type": "markdown",
   "id": "6856323e",
   "metadata": {},
   "source": [
    "**Uwaga:** transponowanie nie tworzy nowej tablicy!"
   ]
  },
  {
   "cell_type": "code",
   "execution_count": 62,
   "id": "2bb05bd3",
   "metadata": {},
   "outputs": [
    {
     "name": "stdout",
     "output_type": "stream",
     "text": [
      "[[ 2  3  4]\n",
      " [ 5 -5  7]]\n"
     ]
    }
   ],
   "source": [
    "b = a.T\n",
    "b[1,1] = -5\n",
    "print(a)"
   ]
  },
  {
   "cell_type": "markdown",
   "id": "34eb4d40",
   "metadata": {},
   "source": [
    "## Broadcasting i wektoryzacja na przykładzie arytmetyki w NumPy"
   ]
  },
  {
   "cell_type": "markdown",
   "id": "a6d0223a",
   "metadata": {},
   "source": [
    "Zacznijmy od przykładu dodawania tablic:"
   ]
  },
  {
   "cell_type": "code",
   "execution_count": 63,
   "id": "858e9821",
   "metadata": {},
   "outputs": [
    {
     "name": "stdout",
     "output_type": "stream",
     "text": [
      "[[ 5  5 12]\n",
      " [ 9  7  7]]\n"
     ]
    }
   ],
   "source": [
    "a = np.array([[1, 2, 3],\n",
    "              [4, 5, 6]])\n",
    "b = np.array([[4, 3, 9],\n",
    "              [5, 2, 1]])\n",
    "print(a + b)"
   ]
  },
  {
   "cell_type": "markdown",
   "id": "f0cc76f1",
   "metadata": {},
   "source": [
    "Powyższe dodawanie jest wykonywane element po elemencie. Odpowiada ono dodawaniu macierzy. \n",
    "\n",
    "No to teraz spróbujmy pomnożyć dwie tablice:"
   ]
  },
  {
   "cell_type": "code",
   "execution_count": 64,
   "id": "f5af6a2c",
   "metadata": {},
   "outputs": [
    {
     "data": {
      "text/plain": [
       "array([[ 4,  6, 27],\n",
       "       [20, 10,  6]])"
      ]
     },
     "execution_count": 64,
     "metadata": {},
     "output_type": "execute_result"
    }
   ],
   "source": [
    "a * b"
   ]
  },
  {
   "cell_type": "markdown",
   "id": "fc79ecce",
   "metadata": {},
   "source": [
    "Ewidentnie nie odpowiada ono mnożeniu macierzy. Jest to po prostu wymnażanie odpowiadających sobie elementów. \n",
    "\n",
    "Jeżeli chcemy wymnożyć tablice zgodnie z definicją mnożenia macierzy, korzystamy z funkcji [numpy.matmul](https://numpy.org/doc/stable/reference/generated/numpy.matmul.html):"
   ]
  },
  {
   "cell_type": "code",
   "execution_count": 65,
   "id": "7b4406f3",
   "metadata": {},
   "outputs": [
    {
     "name": "stdout",
     "output_type": "stream",
     "text": [
      "[[3 2 6]\n",
      " [7 2 1]]\n",
      "x\n",
      "[[2 3]\n",
      " [1 4]\n",
      " [3 2]]\n",
      "=\n",
      "[[26 29]\n",
      " [19 31]]\n"
     ]
    }
   ],
   "source": [
    "A = np.array([[3,2,6],[7,2,1]])\n",
    "B = np.array([[2,3],[1,4],[3,2]])\n",
    "print(A)\n",
    "print('x')\n",
    "print(B)\n",
    "print(\"=\")\n",
    "print(np.matmul(A,B))"
   ]
  },
  {
   "cell_type": "markdown",
   "id": "8cc3ad68",
   "metadata": {},
   "source": [
    "Można też tak:"
   ]
  },
  {
   "cell_type": "code",
   "execution_count": 66,
   "id": "f5bad417",
   "metadata": {},
   "outputs": [
    {
     "data": {
      "text/plain": [
       "array([[26, 29],\n",
       "       [19, 31]])"
      ]
     },
     "execution_count": 66,
     "metadata": {},
     "output_type": "execute_result"
    }
   ],
   "source": [
    "A @ B"
   ]
  },
  {
   "cell_type": "markdown",
   "id": "73a752c6",
   "metadata": {},
   "source": [
    "lub tak:"
   ]
  },
  {
   "cell_type": "code",
   "execution_count": 67,
   "id": "a2292485",
   "metadata": {},
   "outputs": [
    {
     "data": {
      "text/plain": [
       "array([[26, 29],\n",
       "       [19, 31]])"
      ]
     },
     "execution_count": 67,
     "metadata": {},
     "output_type": "execute_result"
    }
   ],
   "source": [
    "A.dot(B)"
   ]
  },
  {
   "cell_type": "markdown",
   "id": "d9ffe61c",
   "metadata": {},
   "source": [
    "Tablicę można pomnożyć przez liczbę (odpowiada mnożeniu macierzy przez skalar):"
   ]
  },
  {
   "cell_type": "code",
   "execution_count": 68,
   "id": "95018160",
   "metadata": {},
   "outputs": [
    {
     "name": "stdout",
     "output_type": "stream",
     "text": [
      "[[ 1  2  3  4  5]\n",
      " [ 6  7  8  9 10]]\n"
     ]
    },
    {
     "data": {
      "text/plain": [
       "array([[ 3,  6,  9, 12, 15],\n",
       "       [18, 21, 24, 27, 30]])"
      ]
     },
     "execution_count": 68,
     "metadata": {},
     "output_type": "execute_result"
    }
   ],
   "source": [
    "M = np.array(range(1,11)).reshape((2,5))\n",
    "print(M)\n",
    "M * 3"
   ]
  },
  {
   "cell_type": "markdown",
   "id": "6bdf54ec",
   "metadata": {},
   "source": [
    "W przypadku macierzy znanych nam z wykładu algebry liniowej możemy dodawać i odejmować macierze o takich samych wymiarach lub możemy mnożyć macierz przez skalar. Nie mamy jednak zdefiniowanych operacji odejmowania skalaru od macierzy.\n",
    "\n",
    "W przypadku tablic NumPy jest inaczej. Od tablicy możemy odjąć liczbę (skalar) lub od liczby (skalaru) odjąć tablicę:"
   ]
  },
  {
   "cell_type": "code",
   "execution_count": 69,
   "id": "6fab0fc1",
   "metadata": {},
   "outputs": [
    {
     "data": {
      "text/plain": [
       "array([[-4, -3, -2, -1,  0],\n",
       "       [ 1,  2,  3,  4,  5]])"
      ]
     },
     "execution_count": 69,
     "metadata": {},
     "output_type": "execute_result"
    }
   ],
   "source": [
    "M - 5"
   ]
  },
  {
   "cell_type": "code",
   "execution_count": 70,
   "id": "2ee51ebc",
   "metadata": {},
   "outputs": [
    {
     "data": {
      "text/plain": [
       "array([[ 4,  3,  2,  1,  0],\n",
       "       [-1, -2, -3, -4, -5]])"
      ]
     },
     "execution_count": 70,
     "metadata": {},
     "output_type": "execute_result"
    }
   ],
   "source": [
    "5 - M"
   ]
  },
  {
   "cell_type": "markdown",
   "id": "5da95657",
   "metadata": {},
   "source": [
    "Aby ułatwić i znacznie przyspieszyć operacje arytmetyczne na danych ujętych w tablicach NumPy, podstawowe operacje zostały w NumPy rozszerzone tak, aby można było je wykonywać element po elemencie. Jest to możliwe dzięki dwóm mechanizmom: broadcasting'u (ang. *[broadcasting](https://numpy.org/doc/stable/user/basics.broadcasting.html)*) i wektoryzacji (ang. *vectorization*)."
   ]
  },
  {
   "cell_type": "markdown",
   "id": "52421f5e",
   "metadata": {},
   "source": [
    "Możemy wykonywać operacje element po elemencie na dwóch tablicach o różnej liczbie wymiarów:"
   ]
  },
  {
   "cell_type": "code",
   "execution_count": 71,
   "id": "5c374e98",
   "metadata": {},
   "outputs": [
    {
     "data": {
      "text/plain": [
       "array([[ 1.,  2.,  3.],\n",
       "       [11., 12., 13.],\n",
       "       [21., 22., 23.],\n",
       "       [31., 32., 33.]])"
      ]
     },
     "execution_count": 71,
     "metadata": {},
     "output_type": "execute_result"
    }
   ],
   "source": [
    "a = np.array([[ 0.0,  0.0,  0.0],\n",
    "              [10.0, 10.0, 10.0],\n",
    "              [20.0, 20.0, 20.0],\n",
    "              [30.0, 30.0, 30.0]])\n",
    "\n",
    "b = np.array([1.0, 2.0, 3.0])\n",
    "\n",
    "a + b"
   ]
  },
  {
   "cell_type": "markdown",
   "id": "8ab4d2ef",
   "metadata": {},
   "source": [
    "Umożliwił to mechanizm braodcasting'u. Ale to już nie zadziała:"
   ]
  },
  {
   "cell_type": "code",
   "execution_count": 72,
   "id": "b889a13d",
   "metadata": {},
   "outputs": [
    {
     "ename": "ValueError",
     "evalue": "operands could not be broadcast together with shapes (4,3) (4,) ",
     "output_type": "error",
     "traceback": [
      "\u001b[1;31m---------------------------------------------------------------------------\u001b[0m",
      "\u001b[1;31mValueError\u001b[0m                                Traceback (most recent call last)",
      "Cell \u001b[1;32mIn[72], line 8\u001b[0m\n\u001b[0;32m      1\u001b[0m a \u001b[38;5;241m=\u001b[39m np\u001b[38;5;241m.\u001b[39marray([[  \u001b[38;5;241m1.\u001b[39m,   \u001b[38;5;241m2.\u001b[39m,   \u001b[38;5;241m3.\u001b[39m],\n\u001b[0;32m      2\u001b[0m               [\u001b[38;5;241m11.\u001b[39m,  \u001b[38;5;241m12.\u001b[39m,  \u001b[38;5;241m13.\u001b[39m],\n\u001b[0;32m      3\u001b[0m               [\u001b[38;5;241m21.\u001b[39m,  \u001b[38;5;241m22.\u001b[39m,  \u001b[38;5;241m23.\u001b[39m],\n\u001b[0;32m      4\u001b[0m               [\u001b[38;5;241m31.\u001b[39m,  \u001b[38;5;241m32.\u001b[39m,  \u001b[38;5;241m33.\u001b[39m]])\n\u001b[0;32m      6\u001b[0m b \u001b[38;5;241m=\u001b[39m np\u001b[38;5;241m.\u001b[39marray([\u001b[38;5;241m1.0\u001b[39m, \u001b[38;5;241m2.0\u001b[39m, \u001b[38;5;241m3.0\u001b[39m, \u001b[38;5;241m4.0\u001b[39m])\n\u001b[1;32m----> 8\u001b[0m \u001b[43ma\u001b[49m\u001b[43m \u001b[49m\u001b[38;5;241;43m+\u001b[39;49m\u001b[43m \u001b[49m\u001b[43mb\u001b[49m\n",
      "\u001b[1;31mValueError\u001b[0m: operands could not be broadcast together with shapes (4,3) (4,) "
     ]
    }
   ],
   "source": [
    "a = np.array([[  1.,   2.,   3.],\n",
    "              [11.,  12.,  13.],\n",
    "              [21.,  22.,  23.],\n",
    "              [31.,  32.,  33.]])\n",
    "\n",
    "b = np.array([1.0, 2.0, 3.0, 4.0])\n",
    "\n",
    "a + b"
   ]
  },
  {
   "attachments": {
    "broadcasting_2.png": {
     "image/png": "[encoded data removed]"
    }
   },
   "cell_type": "markdown",
   "id": "70e29248",
   "metadata": {},
   "source": [
    "Przed wykonaniem działania na dwóch tablicach, NumPy porównuje rozmiary poszczególnych wymiarów zaczynając od prawej strony.\n",
    "Przy porównywaniu, rozmiary wymiaru są uznawane za kompatybilne, gdy są równe bądź gdy któryś z rozmiarów wynosi 1. Jeżeli żaden z tych warunków nie jest spełniony, zgłaszany jest błąd \"ValueError: operands could not be broadcast together\". \n",
    "\n",
    "Tablice nie muszą mieć takiej samej liczby wymiarów. Zakłada się, że brakujące wymiary mają rozmiar 1. Tablica wynikowa będzie miała liczbę wymiarów równą większej liczbie wymiarów spośród obu tablic wejściowych a rozmiar każdego wymiaru będzie równy większemu rozmiarowy odpowiedniego wymiaru obu tablic wejściowych. Kilka przykładów:\n",
    "\n",
    "<code>\n",
    "A     (2d): 4 x 3\n",
    "B     (1d):     3\n",
    "Wynik (3d): 4 x 3\n",
    "</code>\n",
    "\n",
    "Na rysunku można przedstawić to tak\n",
    "\n",
    "![broadcasting_2.png](attachment:broadcasting_2.png)\n",
    "\n",
    "<code>\n",
    "A     (3d): 256 x 256 x 3\n",
    "B     (1d):             3\n",
    "Wynik (3d): 256 x 256 x 3\n",
    "</code>\n",
    "\n",
    "<code>\n",
    "A     (4d): 8 x 1 x 6 x 1\n",
    "B     (3d):     7 x 1 x 5\n",
    "Wynik (4d): 8 x 7 x 6 x 5\n",
    "</code>\n",
    "\n",
    "\n",
    "\n",
    "W poprzednim przykładzie mieliśmy następującą sytuację:\n",
    "\n",
    "<code>\n",
    "a (2d): 4 x 3\n",
    "b (1d): 1 x 4  \n",
    "</code>\n",
    "\n",
    "Widzimy, że rozmiary wymiaru pierwszego od prawej strony nie są kompatybilne. Ale to już zadziała:"
   ]
  },
  {
   "cell_type": "code",
   "execution_count": 73,
   "id": "614a4556",
   "metadata": {},
   "outputs": [
    {
     "data": {
      "text/plain": [
       "array([[  1.,  22.,  63., 124.],\n",
       "       [  2.,  24.,  66., 128.],\n",
       "       [  3.,  26.,  69., 132.]])"
      ]
     },
     "execution_count": 73,
     "metadata": {},
     "output_type": "execute_result"
    }
   ],
   "source": [
    "a.T * b "
   ]
  },
  {
   "cell_type": "markdown",
   "id": "567b9add",
   "metadata": {},
   "source": [
    "Więcej o mechanizmie broadcastingu można poczytać np. [tutaj](https://numpy.org/doc/stable/user/basics.broadcasting.html#basics-broadcasting)."
   ]
  },
  {
   "cell_type": "markdown",
   "id": "908ff308",
   "metadata": {},
   "source": [
    "Wróćmy jeszcze do przykładu mnożenia dwóch tablic o tych samych wymiarach:"
   ]
  },
  {
   "cell_type": "code",
   "execution_count": 74,
   "id": "b12d974e",
   "metadata": {},
   "outputs": [
    {
     "name": "stdout",
     "output_type": "stream",
     "text": [
      "[[ 4  6 27]\n",
      " [20 10  6]]\n"
     ]
    }
   ],
   "source": [
    "a = np.array([[1, 2, 3],\n",
    "              [4, 5, 6]])\n",
    "b = np.array([[4, 3, 9],\n",
    "              [5, 2, 1]])\n",
    "print(a * b)"
   ]
  },
  {
   "cell_type": "markdown",
   "id": "b11df7ee",
   "metadata": {},
   "source": [
    "Zadziałał tutaj mechanizm \"wektoryzacji\": nie wymnażaliśmy odpowiednich elementów obu tablic za pomocą pętli w Pythonie tylko pozostawiliśmy to bibliotece NumPy, gdzie iteracja po odpowiadających sobie elementach tablic jest realizowana w C, zamiast w interpreterze Pythona. Jest to dużo bardziej efektywne!"
   ]
  },
  {
   "cell_type": "markdown",
   "id": "49607a78",
   "metadata": {},
   "source": [
    "Inny przykład - podnoszenie do kwadratu każdego elementu w tablicy:"
   ]
  },
  {
   "cell_type": "code",
   "execution_count": 75,
   "id": "36cf130f",
   "metadata": {},
   "outputs": [
    {
     "data": {
      "text/plain": [
       "array([[  1,   4,   9,  16,  25],\n",
       "       [ 36,  49,  64,  81, 100]])"
      ]
     },
     "execution_count": 75,
     "metadata": {},
     "output_type": "execute_result"
    }
   ],
   "source": [
    "M**np.array([2])"
   ]
  },
  {
   "cell_type": "markdown",
   "id": "14d54010",
   "metadata": {},
   "source": [
    "Albo prościej tak:"
   ]
  },
  {
   "cell_type": "code",
   "execution_count": 76,
   "id": "14e30da4",
   "metadata": {},
   "outputs": [
    {
     "data": {
      "text/plain": [
       "array([[  1,   4,   9,  16,  25],\n",
       "       [ 36,  49,  64,  81, 100]])"
      ]
     },
     "execution_count": 76,
     "metadata": {},
     "output_type": "execute_result"
    }
   ],
   "source": [
    "M**2"
   ]
  },
  {
   "cell_type": "markdown",
   "id": "016303a2",
   "metadata": {},
   "source": [
    "A teraz jeszcze jeden przykład łączący broadcasting i wektoryzację:"
   ]
  },
  {
   "cell_type": "code",
   "execution_count": 77,
   "id": "ff20849c",
   "metadata": {},
   "outputs": [
    {
     "data": {
      "text/plain": [
       "array([[False, False, False, False, False],\n",
       "       [ True,  True,  True,  True,  True]])"
      ]
     },
     "execution_count": 77,
     "metadata": {},
     "output_type": "execute_result"
    }
   ],
   "source": [
    "M - np.array([5]) > np.array([0])"
   ]
  },
  {
   "cell_type": "markdown",
   "id": "4218cb79",
   "metadata": {},
   "source": [
    "Albo prościej tak:"
   ]
  },
  {
   "cell_type": "code",
   "execution_count": 78,
   "id": "083e630b",
   "metadata": {},
   "outputs": [
    {
     "data": {
      "text/plain": [
       "array([[False, False, False, False, False],\n",
       "       [ True,  True,  True,  True,  True]])"
      ]
     },
     "execution_count": 78,
     "metadata": {},
     "output_type": "execute_result"
    }
   ],
   "source": [
    "M - 5 > 0"
   ]
  },
  {
   "cell_type": "markdown",
   "id": "045b897a",
   "metadata": {},
   "source": [
    "## Funkcje matematyczne\n",
    "\n",
    "NumPy zawiera realizacje podstawowych funkcji matematycznych, takich jak sin, cos, exp, log. Pozwalają one dokonywać odpowiednich operacji na danych tablicowych element po elemencie."
   ]
  },
  {
   "cell_type": "code",
   "execution_count": 79,
   "id": "c264c7fd",
   "metadata": {},
   "outputs": [
    {
     "data": {
      "text/plain": [
       "array([ 1.        ,  1.09483758,  1.17873591,  1.2508567 ,  1.31047934,\n",
       "        1.3570081 ,  1.38997809,  1.40905987,  1.4140628 ,  1.40493688,\n",
       "        1.38177329,  1.34480348,  1.29439684,  1.23105701,  1.15541687,\n",
       "        1.06823219,  0.97037408,  0.86282032,  0.74664554,  0.62301052,\n",
       "        0.49315059,  0.35836326,  0.21999529,  0.07942919, -0.06193053,\n",
       "       -0.20267147, -0.34138738, -0.47669226, -0.60723419, -0.73170884,\n",
       "       -0.84887249, -0.95755449, -1.05666892, -1.14522546, -1.22233929,\n",
       "       -1.28723991, -1.33927886, -1.37793617, -1.4028256 , -1.41369846,\n",
       "       -1.41044612, -1.39310106, -1.36183659, -1.31696511, -1.25893494,\n",
       "       -1.18832592, -1.10584353, -1.01231192, -0.90866563, -0.79594024,\n",
       "       -0.67526209, -0.54783694, -0.41493798, -0.27789311, -0.13807161,\n",
       "        0.00312945,  0.14429924,  0.28402724,  0.42091734,  0.55360177,\n",
       "        0.68075479,  0.80110593,  0.91345269])"
      ]
     },
     "execution_count": 79,
     "metadata": {},
     "output_type": "execute_result"
    }
   ],
   "source": [
    "X = np.arange(0, 2 * np.pi, 0.1)\n",
    "\n",
    "np.sin(X) + np.cos(X)"
   ]
  },
  {
   "cell_type": "markdown",
   "id": "b64916ec",
   "metadata": {},
   "source": [
    "Sprawdzimy jedynkę trygonometryczną, czyli tożsamość trygonometryczną postaci\n",
    "\n",
    "$$\\sin^2(\\alpha) + \\cos^2(\\alpha) = 1$$"
   ]
  },
  {
   "cell_type": "code",
   "execution_count": 80,
   "id": "faac469b",
   "metadata": {},
   "outputs": [
    {
     "data": {
      "text/plain": [
       "array([1., 1., 1., 1., 1., 1., 1., 1., 1., 1., 1., 1., 1., 1., 1., 1., 1.,\n",
       "       1., 1., 1., 1., 1., 1., 1., 1., 1., 1., 1., 1., 1., 1., 1., 1., 1.,\n",
       "       1., 1., 1., 1., 1., 1., 1., 1., 1., 1., 1., 1., 1., 1., 1., 1., 1.,\n",
       "       1., 1., 1., 1., 1., 1., 1., 1., 1., 1., 1., 1.])"
      ]
     },
     "execution_count": 80,
     "metadata": {},
     "output_type": "execute_result"
    }
   ],
   "source": [
    "np.sin(X)**2 + np.cos(X)**2"
   ]
  },
  {
   "cell_type": "code",
   "execution_count": 81,
   "id": "9de4d229",
   "metadata": {},
   "outputs": [
    {
     "data": {
      "text/plain": [
       "10"
      ]
     },
     "execution_count": 81,
     "metadata": {},
     "output_type": "execute_result"
    }
   ],
   "source": [
    "M.max()"
   ]
  },
  {
   "cell_type": "markdown",
   "id": "66231e34",
   "metadata": {},
   "source": [
    "Albo tak:"
   ]
  },
  {
   "cell_type": "code",
   "execution_count": 82,
   "id": "88214b93",
   "metadata": {},
   "outputs": [
    {
     "data": {
      "text/plain": [
       "10"
      ]
     },
     "execution_count": 82,
     "metadata": {},
     "output_type": "execute_result"
    }
   ],
   "source": [
    "np.max(M)"
   ]
  },
  {
   "cell_type": "markdown",
   "id": "0ba7b6dd",
   "metadata": {},
   "source": [
    "Inne przykłady funkcji matematycznych:"
   ]
  },
  {
   "cell_type": "code",
   "execution_count": 83,
   "id": "4509db2f",
   "metadata": {},
   "outputs": [
    {
     "data": {
      "text/plain": [
       "1"
      ]
     },
     "execution_count": 83,
     "metadata": {},
     "output_type": "execute_result"
    }
   ],
   "source": [
    "M.min()"
   ]
  },
  {
   "cell_type": "code",
   "execution_count": 84,
   "id": "f85a60b8",
   "metadata": {},
   "outputs": [
    {
     "data": {
      "text/plain": [
       "5.5"
      ]
     },
     "execution_count": 84,
     "metadata": {},
     "output_type": "execute_result"
    }
   ],
   "source": [
    "M.mean()"
   ]
  },
  {
   "cell_type": "code",
   "execution_count": 85,
   "id": "6cf1275f",
   "metadata": {},
   "outputs": [
    {
     "data": {
      "text/plain": [
       "2.8722813232690143"
      ]
     },
     "execution_count": 85,
     "metadata": {},
     "output_type": "execute_result"
    }
   ],
   "source": [
    "M.std()"
   ]
  },
  {
   "cell_type": "code",
   "execution_count": 86,
   "id": "52397775",
   "metadata": {},
   "outputs": [
    {
     "data": {
      "text/plain": [
       "55"
      ]
     },
     "execution_count": 86,
     "metadata": {},
     "output_type": "execute_result"
    }
   ],
   "source": [
    "M.sum()"
   ]
  },
  {
   "cell_type": "markdown",
   "id": "23ed27c7",
   "metadata": {},
   "source": [
    "Funkcje takie jak max, min działają szybko, gdyż korzystają z wektorowej architektury procesora. Takie wektorowe funkcje w NumPy nazywają się [ufunc](https://numpy.org/doc/stable/reference/generated/numpy.frompyfunc.html) (ang. *universal functions*)."
   ]
  },
  {
   "cell_type": "markdown",
   "id": "680fc1bc",
   "metadata": {},
   "source": [
    "Teraz spróbujmy czegoś bardziej złożonego. Za pomocą broadcasting'u i wektoryzacji możemy na przykład szybko policzyć przewidywania modelu regresji logistycznej dla różnych danych wejściowych. Bez zbytniego zagłębiania się w szczegóły, model regresji logistycznej jest postaci\n",
    "\n",
    "$$y(\\mathbf{x}) = \\frac{1}{1+e^{-(\\beta_0 + \\beta_1 x_1 + \\beta_2 x_2 + \\ldots + \\beta_n x_n)}}$$,\n",
    "\n",
    "gdzie $\\beta_i$ dla $i = 0,1,\\ldots,n$ to parametry modelu (zwykle są \"uczone\", ale to zagadnienie na inny przedmiot; u nas będą zadane), $\\mathbf{x} = [x_1, x_2, \\ldots, x_n]$ to wektory obserwacji, tj. zaobserwowanych wartości dla zmiennych niezależnych (zwanych też cechami) $x_j$ dla $j = 1,2,\\ldots,n$. Wynikiem jest liczba z przedziału $(0,1)$ interpretowana jako prawdopodobieństwo przynależności do jednej wybranej klasy z dwóch możliwych (regresja logistyczna ma zastosowanie w problemach klasyfikacji binarnej; więcej informacji można znaleźć np. [tutaj](https://pl.wikipedia.org/wiki/Regresja_logistyczna)). \n",
    "\n",
    "Zobaczmy jak to działa w przypadku n = 2 i zbioru danych wielkości 5:"
   ]
  },
  {
   "cell_type": "code",
   "execution_count": 87,
   "id": "e51f938e",
   "metadata": {},
   "outputs": [
    {
     "name": "stdout",
     "output_type": "stream",
     "text": [
      "Liczba zmiennych wejściowych: 5, liczba obserwacji: 2\n"
     ]
    },
    {
     "data": {
      "text/plain": [
       "array([0.54562275, 0.91213609, 0.96436014, 0.71605979, 0.55848111])"
      ]
     },
     "execution_count": 87,
     "metadata": {},
     "output_type": "execute_result"
    }
   ],
   "source": [
    "# Wartości parametrów modelu regresji logistycznej\n",
    "beta = [0.07,0.34]\n",
    "beta0 = 0.04\n",
    "\n",
    "# Tablica z danymi: wiersze zawierają poszczególne wektory obserwacji, a kolumny zawierają wartości dla\n",
    "# zmiennych niezależnych x_1 i x_2. \n",
    "x = np.array([[0.1,0.4],\n",
    "              [4.2,5.9],\n",
    "              [7.2,8.1],\n",
    "              [7.3,1.1],\n",
    "              [2.3,0.1]]\n",
    "            )\n",
    "print(f\"Liczba zmiennych wejściowych: {x.shape[0]}, liczba obserwacji: {x.shape[1]}\")\n",
    "\n",
    "y = 1/(1 + np.exp( -(x.dot(beta)+beta0) ))\n",
    "y"
   ]
  },
  {
   "cell_type": "markdown",
   "id": "6a60f7ce",
   "metadata": {},
   "source": [
    "I na tym przykładzie (choć dla \"nieco\" większego zbioru danych) możemy zaobserwować jak korzystanie z biblioteki NumPy pozwala przyspieszyć obliczenia:\n",
    "\n",
    "**Uwaga:** Obliczenia mogą zająć dłuższą chwilę (ok. 3 min.)!"
   ]
  },
  {
   "cell_type": "code",
   "execution_count": 88,
   "id": "9866cebe",
   "metadata": {},
   "outputs": [
    {
     "name": "stdout",
     "output_type": "stream",
     "text": [
      "Liczba zmiennych wejściowych: 100000, liczba obserwacji: 2\n",
      "Czas obliczeń z wykorzystaniem broadcasting'u i wektoryzacji: 0.3145080991089344s\n",
      "Czas obliczeń za pomocą pętli for w Pythonie: 38.809383699670434s\n",
      "Broadcasting i wektoryzacja dały nam 123.397-krotne przyspieszenie w stosunku do pętli for!\n",
      "Czas obliczeń za pomocą list comprehension: 38.424398800358176s\n",
      "Broadcasting i wektoryzacja dały nam 122.173-krotne przyspieszenie w stosunku do list comprehension!\n"
     ]
    }
   ],
   "source": [
    "from timeit import timeit\n",
    "\n",
    "dataset_size = 100000\n",
    "number_of_executions = 100\n",
    "\n",
    "x = np.random.standard_normal((dataset_size,2))\n",
    "print(f\"Liczba zmiennych wejściowych: {x.shape[0]}, liczba obserwacji: {x.shape[1]}\")\n",
    "\n",
    "# Korzystamy z wektoryzacji i iloczynu skalarnego w NumPy\n",
    "def logreg_vect():\n",
    "    return 1/(1 + np.exp( -(x.dot(beta)+beta0) ))\n",
    "\n",
    "# timeit w Jupyterze\n",
    "#t_vect= %timeit -o logreg_vect()\n",
    "\n",
    "t_vect = timeit(\"logreg_vect()\", globals=globals(), number=number_of_executions)\n",
    "print(f'Czas obliczeń z wykorzystaniem broadcasting\\'u i wektoryzacji: {t_vect}s')\n",
    "\n",
    "def logreg_loop():\n",
    "    # Iterujemy po obserwacjach (wierszach tabeli x) za pomocą pętli for\n",
    "    y_loop = np.zeros(dataset_size) # Alokacja tablicy na wyniki\n",
    "    for i in range(dataset_size):\n",
    "        y_loop[i] = 1/(1 + np.exp( -(x[i,:].dot(beta)+beta0) ))\n",
    "  \n",
    "    return y_loop\n",
    "\n",
    "t_loop = timeit(\"logreg_loop()\", globals=globals(), number=number_of_executions)\n",
    "print(f'Czas obliczeń za pomocą pętli for w Pythonie: {t_loop}s')\n",
    "print(f\"Broadcasting i wektoryzacja dały nam {t_loop/t_vect:.3f}-krotne przyspieszenie w stosunku do pętli for!\")\n",
    "\n",
    "# Korzystamy z list comprehension\n",
    "def logreg_lc():\n",
    "    return [1/(1 + np.exp( -(x[i,:].dot(beta)+beta0) )) for i in range(dataset_size)]\n",
    "\n",
    "t_lc = timeit(\"logreg_lc()\", globals=globals(), number=number_of_executions)\n",
    "print(f'Czas obliczeń za pomocą list comprehension: {t_lc}s')\n",
    "print(f\"Broadcasting i wektoryzacja dały nam {t_lc/t_vect:.3f}-krotne przyspieszenie w stosunku do list comprehension!\")"
   ]
  },
  {
   "cell_type": "markdown",
   "id": "4c3ccabf",
   "metadata": {},
   "source": [
    "Aby przekształcić algorytmy do ich wektorowej wersji, należy zadbać, aby definiowane przez nas funkcje dobrze pracowały z argumentami typu array. Pokażemy to na przykładzie. Zdefiniujmy funkcję skokową Heaviside'a: "
   ]
  },
  {
   "cell_type": "code",
   "execution_count": 89,
   "id": "f16c6380",
   "metadata": {},
   "outputs": [],
   "source": [
    "def heaviside(x):\n",
    "    if x >= 0:\n",
    "        return 1\n",
    "    else:\n",
    "        return 0"
   ]
  },
  {
   "cell_type": "markdown",
   "id": "16707ccf",
   "metadata": {},
   "source": [
    "Tak zdefiniowana funkcja nie radzi sobie z argumentem typu `np.array`:"
   ]
  },
  {
   "cell_type": "code",
   "execution_count": 90,
   "id": "585b1b69",
   "metadata": {},
   "outputs": [
    {
     "ename": "ValueError",
     "evalue": "The truth value of an array with more than one element is ambiguous. Use a.any() or a.all()",
     "output_type": "error",
     "traceback": [
      "\u001b[1;31m---------------------------------------------------------------------------\u001b[0m",
      "\u001b[1;31mValueError\u001b[0m                                Traceback (most recent call last)",
      "Cell \u001b[1;32mIn[90], line 1\u001b[0m\n\u001b[1;32m----> 1\u001b[0m \u001b[43mheaviside\u001b[49m\u001b[43m(\u001b[49m\u001b[43mnp\u001b[49m\u001b[38;5;241;43m.\u001b[39;49m\u001b[43marray\u001b[49m\u001b[43m(\u001b[49m\u001b[43m[\u001b[49m\u001b[38;5;241;43m-\u001b[39;49m\u001b[38;5;241;43m1\u001b[39;49m\u001b[43m,\u001b[49m\u001b[38;5;241;43m2\u001b[39;49m\u001b[43m,\u001b[49m\u001b[38;5;241;43m-\u001b[39;49m\u001b[38;5;241;43m3\u001b[39;49m\u001b[43m,\u001b[49m\u001b[38;5;241;43m5\u001b[39;49m\u001b[43m,\u001b[49m\u001b[38;5;241;43m7\u001b[39;49m\u001b[43m]\u001b[49m\u001b[43m)\u001b[49m\u001b[43m)\u001b[49m\n",
      "Cell \u001b[1;32mIn[89], line 2\u001b[0m, in \u001b[0;36mheaviside\u001b[1;34m(x)\u001b[0m\n\u001b[0;32m      1\u001b[0m \u001b[38;5;28;01mdef\u001b[39;00m \u001b[38;5;21mheaviside\u001b[39m(x):\n\u001b[1;32m----> 2\u001b[0m     \u001b[38;5;28;01mif\u001b[39;00m \u001b[43mx\u001b[49m\u001b[43m \u001b[49m\u001b[38;5;241;43m>\u001b[39;49m\u001b[38;5;241;43m=\u001b[39;49m\u001b[43m \u001b[49m\u001b[38;5;241;43m0\u001b[39;49m:\n\u001b[0;32m      3\u001b[0m         \u001b[38;5;28;01mreturn\u001b[39;00m \u001b[38;5;241m1\u001b[39m\n\u001b[0;32m      4\u001b[0m     \u001b[38;5;28;01melse\u001b[39;00m:\n",
      "\u001b[1;31mValueError\u001b[0m: The truth value of an array with more than one element is ambiguous. Use a.any() or a.all()"
     ]
    }
   ],
   "source": [
    "heaviside(np.array([-1,2,-3,5,7]))"
   ]
  },
  {
   "cell_type": "markdown",
   "id": "45ad076d",
   "metadata": {},
   "source": [
    "Możemy to naprawić, wykorzystując do tego celu funkcję [numpy.vectorize](https://numpy.org/doc/stable/reference/generated/numpy.vectorize.html), która w większości przypadków automatycznie zwektoryzuje naszą funkcję:"
   ]
  },
  {
   "cell_type": "code",
   "execution_count": 91,
   "id": "3170b888",
   "metadata": {},
   "outputs": [
    {
     "data": {
      "text/plain": [
       "array([0, 1, 0, 1, 1])"
      ]
     },
     "execution_count": 91,
     "metadata": {},
     "output_type": "execute_result"
    }
   ],
   "source": [
    "heaviside_vec = np.vectorize(heaviside)\n",
    "\n",
    "heaviside_vec(np.array([-1,2,-3,5,7]))"
   ]
  },
  {
   "cell_type": "markdown",
   "id": "5aa72605",
   "metadata": {},
   "source": [
    "lub używając @np.vectorize jako adnotacji do definiowanej funkcji:"
   ]
  },
  {
   "cell_type": "code",
   "execution_count": 92,
   "id": "b8e3106e",
   "metadata": {},
   "outputs": [
    {
     "data": {
      "text/plain": [
       "array([0, 1, 0, 1, 1])"
      ]
     },
     "execution_count": 92,
     "metadata": {},
     "output_type": "execute_result"
    }
   ],
   "source": [
    "@np.vectorize\n",
    "def heaviside(x):\n",
    "    if x >= 0:\n",
    "        return 1\n",
    "    else:\n",
    "        return 0\n",
    "\n",
    "heaviside(np.array([-1,2,-3,5,7]))"
   ]
  },
  {
   "cell_type": "markdown",
   "id": "0214b08f",
   "metadata": {},
   "source": [
    "Można to też zrobić \"ręcznie\" - wymaga więcej pracy, ale za to możemy uzyskać lepszą wydajność niż stosując wektoryzację automatyczną:"
   ]
  },
  {
   "cell_type": "code",
   "execution_count": 93,
   "id": "461ac037",
   "metadata": {},
   "outputs": [
    {
     "data": {
      "text/plain": [
       "array([0, 1, 0, 1, 1])"
      ]
     },
     "execution_count": 93,
     "metadata": {},
     "output_type": "execute_result"
    }
   ],
   "source": [
    "def heaviside_vec2(x):\n",
    "    return 1 * (x >= 0)\n",
    "\n",
    "heaviside_vec2(np.array([-1,2,-3,5,7]))"
   ]
  },
  {
   "cell_type": "markdown",
   "id": "466d214b",
   "metadata": {},
   "source": [
    "## Ćwiczenie 2\n",
    "\n",
    "Proszę \"ręcznie\" zwektoryzować poniższy kod:\n",
    "\n",
    "<code>\n",
    "def test_equality(x):\n",
    "    if x**2 + 2*x-1 == (x + 2)*x-1:\n",
    "        return True\n",
    "    else:\n",
    "        return False\n",
    "</code>\n",
    "\n",
    "<code>\n",
    "test_equality(np.linspace(0,1,1000))\n",
    "</code>"
   ]
  },
  {
   "cell_type": "code",
   "execution_count": 94,
   "id": "d9c252f1",
   "metadata": {},
   "outputs": [
    {
     "data": {
      "text/plain": [
       "array([ True,  True, False,  True,  True,  True,  True,  True,  True,\n",
       "        True,  True,  True,  True,  True,  True,  True,  True,  True,\n",
       "        True,  True,  True,  True,  True,  True,  True,  True,  True,\n",
       "        True,  True,  True,  True,  True,  True,  True,  True,  True,\n",
       "        True, False,  True,  True,  True,  True,  True,  True,  True,\n",
       "        True,  True,  True,  True,  True,  True,  True, False,  True,\n",
       "        True,  True, False,  True, False,  True,  True,  True,  True,\n",
       "       False,  True,  True,  True,  True, False,  True,  True,  True,\n",
       "        True,  True,  True,  True,  True, False,  True,  True,  True,\n",
       "        True,  True,  True,  True,  True,  True,  True, False,  True,\n",
       "        True,  True,  True,  True,  True,  True,  True,  True,  True,\n",
       "        True,  True,  True, False,  True,  True,  True,  True,  True,\n",
       "        True,  True,  True,  True,  True,  True,  True,  True,  True,\n",
       "        True,  True,  True,  True,  True,  True, False,  True,  True,\n",
       "        True,  True,  True,  True,  True,  True, False, False,  True,\n",
       "       False,  True,  True, False, False,  True,  True, False,  True,\n",
       "        True,  True,  True,  True,  True,  True,  True,  True,  True,\n",
       "        True,  True,  True,  True,  True,  True,  True,  True,  True,\n",
       "        True,  True,  True,  True,  True, False,  True, False,  True,\n",
       "        True,  True,  True,  True,  True, False, False, False,  True,\n",
       "        True, False,  True,  True,  True,  True,  True,  True,  True,\n",
       "        True,  True,  True, False,  True,  True, False,  True,  True,\n",
       "        True,  True,  True,  True,  True,  True,  True,  True,  True,\n",
       "        True,  True,  True,  True,  True,  True, False,  True, False,\n",
       "       False,  True,  True, False,  True,  True,  True,  True, False,\n",
       "        True, False,  True, False,  True,  True,  True, False,  True,\n",
       "        True,  True,  True, False, False, False,  True,  True,  True,\n",
       "        True, False,  True,  True, False, False, False,  True,  True,\n",
       "       False, False, False,  True,  True, False, False,  True, False,\n",
       "        True, False,  True,  True,  True,  True, False,  True, False,\n",
       "        True,  True, False, False,  True,  True,  True,  True, False,\n",
       "        True, False,  True,  True, False, False, False,  True,  True,\n",
       "        True, False, False,  True,  True, False, False,  True,  True,\n",
       "        True, False, False,  True,  True,  True, False, False, False,\n",
       "        True, False,  True,  True,  True,  True, False,  True, False,\n",
       "        True,  True, False,  True, False, False,  True,  True, False,\n",
       "       False, False,  True,  True,  True, False,  True,  True, False,\n",
       "       False,  True, False,  True,  True, False,  True, False,  True,\n",
       "       False, False,  True,  True,  True,  True,  True, False,  True,\n",
       "        True,  True,  True, False, False, False,  True, False, False,\n",
       "        True, False,  True, False, False,  True,  True,  True,  True,\n",
       "        True, False,  True, False, False, False, False, False,  True,\n",
       "        True, False, False,  True,  True,  True, False, False,  True,\n",
       "        True, False, False,  True,  True, False,  True, False,  True,\n",
       "        True,  True, False, False, False, False,  True,  True,  True,\n",
       "       False,  True,  True,  True, False,  True,  True,  True,  True,\n",
       "       False,  True,  True,  True,  True,  True,  True,  True,  True,\n",
       "        True,  True,  True,  True,  True, False, False,  True,  True,\n",
       "       False,  True,  True,  True,  True,  True,  True, False,  True,\n",
       "        True,  True,  True,  True,  True,  True,  True,  True,  True,\n",
       "       False,  True,  True,  True, False,  True,  True,  True, False,\n",
       "        True,  True,  True,  True,  True,  True, False,  True,  True,\n",
       "        True, False,  True,  True,  True,  True, False, False,  True,\n",
       "        True, False, False,  True,  True,  True,  True, False,  True,\n",
       "       False,  True,  True, False, False,  True,  True,  True, False,\n",
       "        True,  True,  True, False,  True, False,  True,  True,  True,\n",
       "       False, False, False,  True, False, False,  True,  True,  True,\n",
       "       False,  True,  True,  True,  True,  True, False, False, False,\n",
       "        True,  True, False, False,  True, False,  True, False, False,\n",
       "       False,  True,  True, False, False,  True,  True,  True, False,\n",
       "       False,  True,  True,  True,  True,  True,  True,  True,  True,\n",
       "        True, False,  True,  True,  True,  True, False,  True,  True,\n",
       "        True,  True,  True,  True,  True, False,  True, False,  True,\n",
       "       False,  True, False,  True,  True,  True,  True, False, False,\n",
       "        True,  True, False, False, False, False,  True,  True,  True,\n",
       "        True,  True,  True, False, False, False,  True,  True,  True,\n",
       "        True, False, False,  True, False,  True,  True,  True,  True,\n",
       "       False,  True, False, False,  True, False,  True, False,  True,\n",
       "        True,  True,  True,  True,  True,  True,  True, False,  True,\n",
       "        True,  True,  True,  True, False,  True,  True,  True,  True,\n",
       "       False,  True,  True,  True,  True, False,  True,  True,  True,\n",
       "        True,  True, False,  True,  True, False,  True, False,  True,\n",
       "        True,  True, False, False,  True,  True,  True,  True, False,\n",
       "        True,  True,  True, False, False,  True,  True,  True,  True,\n",
       "        True,  True, False,  True, False,  True,  True,  True,  True,\n",
       "        True,  True, False,  True,  True,  True,  True,  True,  True,\n",
       "        True, False,  True, False, False,  True, False,  True, False,\n",
       "        True, False, False, False, False,  True,  True,  True,  True,\n",
       "       False,  True,  True,  True,  True,  True,  True,  True, False,\n",
       "        True,  True,  True,  True, False,  True, False,  True,  True,\n",
       "        True,  True, False,  True,  True, False, False,  True,  True,\n",
       "        True, False, False,  True, False,  True,  True,  True, False,\n",
       "        True,  True, False,  True,  True,  True,  True,  True,  True,\n",
       "       False,  True,  True, False, False,  True,  True,  True,  True,\n",
       "        True,  True,  True,  True, False, False,  True,  True,  True,\n",
       "        True,  True,  True,  True,  True, False,  True, False,  True,\n",
       "        True,  True,  True,  True,  True,  True,  True,  True,  True,\n",
       "        True,  True, False, False,  True,  True,  True, False,  True,\n",
       "        True,  True, False, False,  True, False,  True,  True, False,\n",
       "        True,  True,  True, False,  True, False,  True,  True,  True,\n",
       "        True,  True,  True, False, False,  True,  True,  True,  True,\n",
       "        True,  True, False,  True,  True, False, False,  True,  True,\n",
       "        True,  True,  True, False,  True, False,  True, False, False,\n",
       "        True,  True,  True, False,  True,  True,  True,  True,  True,\n",
       "        True,  True,  True,  True, False,  True,  True,  True,  True,\n",
       "        True,  True, False,  True,  True, False, False,  True,  True,\n",
       "        True, False, False,  True,  True,  True,  True,  True,  True,\n",
       "        True,  True,  True, False,  True,  True,  True,  True,  True,\n",
       "        True,  True,  True,  True, False,  True,  True, False,  True,\n",
       "        True,  True,  True,  True, False, False, False,  True,  True,\n",
       "        True,  True, False, False,  True,  True, False,  True, False,\n",
       "        True, False, False, False,  True,  True,  True,  True,  True,\n",
       "        True, False,  True, False,  True,  True,  True,  True,  True,\n",
       "        True,  True,  True,  True,  True,  True,  True, False,  True,\n",
       "       False,  True,  True,  True,  True,  True, False,  True,  True,\n",
       "        True, False,  True,  True,  True,  True, False,  True,  True,\n",
       "        True, False,  True, False,  True,  True,  True,  True,  True,\n",
       "        True,  True,  True, False,  True,  True, False, False,  True,\n",
       "        True,  True,  True,  True,  True,  True,  True,  True,  True,\n",
       "        True,  True,  True,  True,  True, False,  True,  True,  True,\n",
       "        True,  True, False,  True,  True,  True,  True, False, False,\n",
       "        True])"
      ]
     },
     "execution_count": 94,
     "metadata": {},
     "output_type": "execute_result"
    }
   ],
   "source": [
    "# Rozwiązanie\n",
    "def test_equality_vec(x):\n",
    "    return x**2 + 2*x - 1 == (x + 2) * x - 1\n",
    "\n",
    "test_equality_vec(np.linspace(0,1,1000))"
   ]
  },
  {
   "cell_type": "markdown",
   "id": "377d376c",
   "metadata": {},
   "source": [
    "Poza pewnymi dodatkowymi rzeczami, funkcja np.vectorize wywołuje funkcję [np.frompyfunc](https://numpy.org/doc/stable/reference/generated/numpy.frompyfunc.html#numpy-frompyfunc), która dodaje własności wektoryzacji i broadcasting'u. \n",
    "\n",
    "Dla zainteresowanych: krótko o różnicach między tymi funkcjami można poczytać na [StackOverflow](https://stackoverflow.com/questions/6768245/difference-between-frompyfunc-and-vectorize-in-numpy)."
   ]
  },
  {
   "cell_type": "markdown",
   "id": "de006434",
   "metadata": {},
   "source": [
    "Omówmy jeszcze jedną kwestię. Załóżmy, że mamy daną funkcję dwóch zmiennych $x$ i $y$, np. \n",
    "$$f(x,y) = \\frac{\\sin{(\\sqrt{x^2 + y^2} + 1)}}{\\sqrt{x^2 + y^2} + 1}.$$\n",
    "Chcielibyśmy policzyć wartości tej funkcji na siatce punktów $(x,y)$, gdzie $x,y \\in [-8, -7.5, \\ldots, 8]$. Będzie to np. przydatne później, przy omawianiu wizualizacji w Pythonie. Możemy to zrealizować korzystając w funkcji [numpy.meshgrid](https://numpy.org/doc/stable/reference/generated/numpy.meshgrid.html#numpy.meshgrid). Najpierw jednak zobaczmy jak działa ta funkcja:"
   ]
  },
  {
   "cell_type": "code",
   "execution_count": 95,
   "id": "04b25c95",
   "metadata": {},
   "outputs": [
    {
     "data": {
      "text/plain": [
       "[array([[1, 2, 3],\n",
       "        [1, 2, 3],\n",
       "        [1, 2, 3]]),\n",
       " array([[5, 5, 5],\n",
       "        [6, 6, 6],\n",
       "        [7, 7, 7]])]"
      ]
     },
     "execution_count": 95,
     "metadata": {},
     "output_type": "execute_result"
    }
   ],
   "source": [
    "mg = np.meshgrid([1,2,3],[5,6,7])\n",
    "mg"
   ]
  },
  {
   "cell_type": "markdown",
   "id": "d937a185",
   "metadata": {},
   "source": [
    "Zauważmy, że dostaliśmy w wyniku listę dwóch tablic: mg[0] i mg[1] o tych samych wymiarach. Pytanie co to są za tablice?\n",
    "\n",
    "Widzimy, że wiersze mg[0] są takie same, równe [1,2,3]. W przypadku mg[1] kolumny są takie same równe [5,6,7]. Wypiszmy jeszcze pary odpowiadających sobie elementów z obu tablic: "
   ]
  },
  {
   "cell_type": "code",
   "execution_count": 96,
   "id": "b30687fe",
   "metadata": {},
   "outputs": [
    {
     "name": "stdout",
     "output_type": "stream",
     "text": [
      "(1,5)\n",
      "(2,5)\n",
      "(3,5)\n",
      "(1,6)\n",
      "(2,6)\n",
      "(3,6)\n",
      "(1,7)\n",
      "(2,7)\n",
      "(3,7)\n"
     ]
    }
   ],
   "source": [
    "for i in range(mg[0].shape[0]):\n",
    "    for j in range(mg[0].shape[1]):\n",
    "        print(f\"({mg[0][i,j]},{mg[1][i,j]})\")    "
   ]
  },
  {
   "cell_type": "markdown",
   "id": "e137021b",
   "metadata": {},
   "source": [
    "W wyniku dostaliśmy współrzędne wszystkich punktów naszej siatki! Nasza siatka wygląda tak:\n",
    "\n",
    "(1,5) --- (2,5) --- (3,5)\n",
    "\n",
    "(1,6) --- (2,6) --- (3,6)\n",
    "\n",
    "(1,7) --- (2,7) --- (3,7)\n",
    "\n",
    "Korzystając z funkcji numpy.meshgrid w elegancki sposób możemy rozwiązać nasze zadanie:"
   ]
  },
  {
   "cell_type": "code",
   "execution_count": 97,
   "id": "d803e8fa",
   "metadata": {},
   "outputs": [
    {
     "data": {
      "text/plain": [
       "array([[-0.02030115, -0.04722329, -0.06924469, ..., -0.06924469,\n",
       "        -0.04722329, -0.02030115],\n",
       "       [-0.04722329, -0.07056837, -0.08574957, ..., -0.08574957,\n",
       "        -0.07056837, -0.04722329],\n",
       "       [-0.06924469, -0.08574957, -0.09132423, ..., -0.09132423,\n",
       "        -0.08574957, -0.06924469],\n",
       "       ...,\n",
       "       [-0.06924469, -0.08574957, -0.09132423, ..., -0.09132423,\n",
       "        -0.08574957, -0.06924469],\n",
       "       [-0.04722329, -0.07056837, -0.08574957, ..., -0.08574957,\n",
       "        -0.07056837, -0.04722329],\n",
       "       [-0.02030115, -0.04722329, -0.06924469, ..., -0.06924469,\n",
       "        -0.04722329, -0.02030115]])"
      ]
     },
     "execution_count": 97,
     "metadata": {},
     "output_type": "execute_result"
    }
   ],
   "source": [
    "mg = np.meshgrid(np.arange(-8,8.1,0.5),np.arange(-8,8.1,0.5))\n",
    "F = np.sqrt(mg[0]**2 + mg[1]**2) + 1\n",
    "F = np.sin(F)/F\n",
    "F"
   ]
  },
  {
   "cell_type": "markdown",
   "id": "ab952b3d",
   "metadata": {},
   "source": [
    "A co to za funkcję policzyliśmy? \n",
    "\n",
    "Wyrysowanie tej funkcji pomoże nam udzielić na to pytanie odpowiedzi (w niedalekiej przyszłości dokładniej omówimy kwestie związane z wizualizacją w Pythonie, na razie chcemy tylko zobaczyć co się nam policzyło w NumPy). Zwróćmy uwagę jak siatka punktów mg zostanie użyta w naszej wizualizacji:"
   ]
  },
  {
   "cell_type": "code",
   "execution_count": 98,
   "id": "e1a52324",
   "metadata": {},
   "outputs": [
    {
     "data": {
      "image/png": "[encoded data removed]",
      "text/plain": [
       "<Figure size 640x480 with 1 Axes>"
      ]
     },
     "metadata": {},
     "output_type": "display_data"
    }
   ],
   "source": [
    "import matplotlib.pyplot as plt\n",
    "\n",
    "fig = plt.figure()\n",
    "ax = plt.axes(projection='3d')\n",
    "ax.plot_surface(mg[0], mg[1], F)\n",
    "plt.show()"
   ]
  },
  {
   "cell_type": "markdown",
   "id": "4589e569",
   "metadata": {},
   "source": [
    "# Małe zadanie domowe 11\n",
    "\n",
    "Dane są następujące obserwacje pochodzące z dwóch grup (klas) etykietowanych elementami ze zbioru $\\mathcal{G} = \\{0,1\\}$:\n",
    "\n",
    "<table>\n",
    "  <tr>\n",
    "    <th>A</th>\n",
    "    <th>B</th>\n",
    "    <th>Y</th>\n",
    "  </tr>\n",
    "  <tr>\n",
    "    <th>1.0</th>\n",
    "    <th>1.3</th>\n",
    "    <th>0</th>\n",
    "  </tr>\n",
    "  <tr>\n",
    "    <th>2.2</th>\n",
    "    <th>1.1</th>\n",
    "    <th>1</th>\n",
    "  </tr>\n",
    "  <tr>\n",
    "    <th>2.0</th>\n",
    "    <th>2.4</th>\n",
    "    <th>1</th>\n",
    "  </tr>\n",
    "  <tr>\n",
    "    <th>1.5</th>\n",
    "    <th>3.2</th>\n",
    "    <th>0</th>\n",
    "  </tr>\n",
    "  <tr>\n",
    "    <th>3.2</th>\n",
    "    <th>1.2</th>\n",
    "    <th>1</th>\n",
    "  </tr>\n",
    "</table>\n",
    "    \n",
    "Kolumny A i B to zmienne niezależne a kolumna Y to zmienna zależna. Wiersze tabeli \n",
    "\n",
    "określa etykietę grupy, do której należy dana obserwacja.\n",
    "\n",
    "Rozważmy następujący model predykcyjny (który próbuje przewidzieć etykietę danego zestawu danych):   \n",
    "\n",
    "$$M_\\mathbf{w}(x_A,x_B) = \\frac{1}{1+e^{-(w_0x_A+w_1x_B)}},$$\n",
    "\n",
    "gdzie $\\mathbf{w} = (w_0, w_1)$ to odpowienio wagi dla wartości zmiennych wejściowych $x_A$ i $x_B$.\n",
    "\n",
    "Proszę napisać program w Pythonie w miarę możliwości wykorzystujący wektoryzację NumPy (tzn. starajmy się jak najmniej korzystać z pętli w Pythonie), który oblicza błąd średniokwadratowy (ang. *Mean Squared Error*) powyższego modelu dla danych obserwacji. Program powinien wyliczać błędy dla wszystkich kombinacji wartości wag, gdzie $w_0 \\in [0, 0.1, 0.2, ..., 1]$ oraz $w_1 \\in [2, 2.1, 2.2, ..., 3]$. Wynikiem działania programu powinna być tablica 2D z wartościami błędów dla poszczególnych kombinacji wag. \n",
    "\n",
    "Błąd średniokwadratowy jest zadany ogólnym wzorem\n",
    "$$MSE = \\frac{1}{n}\\sum_{i=1}^{n}(y_i - \\hat y_i)^2,$$\n",
    "gdzie $y_i$ to rzeczywiste wartości z danych (z kolumny Y), $\\hat y_i$ to wartości przewidywane przez model ($M_\\mathbf{w}(x_A,x_B)$), a $n$ to liczba wierszy w tablicy danych (A-B-Y)."
   ]
  },
  {
   "cell_type": "markdown",
   "id": "6433ff18",
   "metadata": {},
   "source": [
    "## Kilka uwag o zapisywaniu i wczytywaniu danych do/z pliku"
   ]
  },
  {
   "cell_type": "markdown",
   "id": "235f5bdd",
   "metadata": {},
   "source": [
    "Utwórzmy plik tekstowy dane.txt zapisując do niego dwuwymiarową tablicę:"
   ]
  },
  {
   "cell_type": "code",
   "execution_count": 99,
   "id": "059a12dc",
   "metadata": {},
   "outputs": [],
   "source": [
    "X = np.array([[ 1, 2 ,3],\n",
    "              [ 4, 5, 6],\n",
    "              [ 7, 8, 9],\n",
    "              [10,11,12]])\n",
    "\n",
    "np.savetxt('dane.txt', X, fmt='%.3e', delimiter=',', newline='\\n', header='')"
   ]
  },
  {
   "cell_type": "markdown",
   "id": "086da28e",
   "metadata": {},
   "source": [
    "Uwaga: X może być co najwyżej tablicą dwuwymiarową. To nie zadziała:"
   ]
  },
  {
   "cell_type": "code",
   "execution_count": 100,
   "id": "dffaf6fa",
   "metadata": {},
   "outputs": [
    {
     "ename": "ValueError",
     "evalue": "Expected 1D or 2D array, got 3D array instead",
     "output_type": "error",
     "traceback": [
      "\u001b[1;31m---------------------------------------------------------------------------\u001b[0m",
      "\u001b[1;31mValueError\u001b[0m                                Traceback (most recent call last)",
      "Cell \u001b[1;32mIn[100], line 1\u001b[0m\n\u001b[1;32m----> 1\u001b[0m \u001b[43mnp\u001b[49m\u001b[38;5;241;43m.\u001b[39;49m\u001b[43msavetxt\u001b[49m\u001b[43m(\u001b[49m\u001b[38;5;124;43m'\u001b[39;49m\u001b[38;5;124;43mtest.txt\u001b[39;49m\u001b[38;5;124;43m'\u001b[39;49m\u001b[43m,\u001b[49m\u001b[43m \u001b[49m\u001b[43mX\u001b[49m\u001b[38;5;241;43m.\u001b[39;49m\u001b[43mreshape\u001b[49m\u001b[43m(\u001b[49m\u001b[43m(\u001b[49m\u001b[38;5;241;43m2\u001b[39;49m\u001b[43m,\u001b[49m\u001b[38;5;241;43m3\u001b[39;49m\u001b[43m,\u001b[49m\u001b[38;5;241;43m2\u001b[39;49m\u001b[43m)\u001b[49m\u001b[43m)\u001b[49m\u001b[43m,\u001b[49m\u001b[43m \u001b[49m\u001b[43mfmt\u001b[49m\u001b[38;5;241;43m=\u001b[39;49m\u001b[38;5;124;43m'\u001b[39;49m\u001b[38;5;132;43;01m%.3e\u001b[39;49;00m\u001b[38;5;124;43m'\u001b[39;49m\u001b[43m,\u001b[49m\u001b[43m \u001b[49m\u001b[43mdelimiter\u001b[49m\u001b[38;5;241;43m=\u001b[39;49m\u001b[38;5;124;43m'\u001b[39;49m\u001b[38;5;124;43m,\u001b[39;49m\u001b[38;5;124;43m'\u001b[39;49m\u001b[43m,\u001b[49m\u001b[43m \u001b[49m\u001b[43mnewline\u001b[49m\u001b[38;5;241;43m=\u001b[39;49m\u001b[38;5;124;43m'\u001b[39;49m\u001b[38;5;130;43;01m\\n\u001b[39;49;00m\u001b[38;5;124;43m'\u001b[39;49m\u001b[43m,\u001b[49m\u001b[43m \u001b[49m\u001b[43mheader\u001b[49m\u001b[38;5;241;43m=\u001b[39;49m\u001b[38;5;124;43m'\u001b[39;49m\u001b[38;5;124;43m'\u001b[39;49m\u001b[43m)\u001b[49m\n",
      "File \u001b[1;32m<__array_function__ internals>:180\u001b[0m, in \u001b[0;36msavetxt\u001b[1;34m(*args, **kwargs)\u001b[0m\n",
      "File \u001b[1;32m~\\anaconda3\\lib\\site-packages\\numpy\\lib\\npyio.py:1537\u001b[0m, in \u001b[0;36msavetxt\u001b[1;34m(fname, X, fmt, delimiter, newline, header, footer, comments, encoding)\u001b[0m\n\u001b[0;32m   1535\u001b[0m \u001b[38;5;66;03m# Handle 1-dimensional arrays\u001b[39;00m\n\u001b[0;32m   1536\u001b[0m \u001b[38;5;28;01mif\u001b[39;00m X\u001b[38;5;241m.\u001b[39mndim \u001b[38;5;241m==\u001b[39m \u001b[38;5;241m0\u001b[39m \u001b[38;5;129;01mor\u001b[39;00m X\u001b[38;5;241m.\u001b[39mndim \u001b[38;5;241m>\u001b[39m \u001b[38;5;241m2\u001b[39m:\n\u001b[1;32m-> 1537\u001b[0m     \u001b[38;5;28;01mraise\u001b[39;00m \u001b[38;5;167;01mValueError\u001b[39;00m(\n\u001b[0;32m   1538\u001b[0m         \u001b[38;5;124m\"\u001b[39m\u001b[38;5;124mExpected 1D or 2D array, got \u001b[39m\u001b[38;5;132;01m%d\u001b[39;00m\u001b[38;5;124mD array instead\u001b[39m\u001b[38;5;124m\"\u001b[39m \u001b[38;5;241m%\u001b[39m X\u001b[38;5;241m.\u001b[39mndim)\n\u001b[0;32m   1539\u001b[0m \u001b[38;5;28;01melif\u001b[39;00m X\u001b[38;5;241m.\u001b[39mndim \u001b[38;5;241m==\u001b[39m \u001b[38;5;241m1\u001b[39m:\n\u001b[0;32m   1540\u001b[0m     \u001b[38;5;66;03m# Common case -- 1d array of numbers\u001b[39;00m\n\u001b[0;32m   1541\u001b[0m     \u001b[38;5;28;01mif\u001b[39;00m X\u001b[38;5;241m.\u001b[39mdtype\u001b[38;5;241m.\u001b[39mnames \u001b[38;5;129;01mis\u001b[39;00m \u001b[38;5;28;01mNone\u001b[39;00m:\n",
      "\u001b[1;31mValueError\u001b[0m: Expected 1D or 2D array, got 3D array instead"
     ]
    }
   ],
   "source": [
    "np.savetxt('test.txt', X.reshape((2,3,2)), fmt='%.3e', delimiter=',', newline='\\n', header='')"
   ]
  },
  {
   "cell_type": "markdown",
   "id": "9ac00375",
   "metadata": {},
   "source": [
    "Dane z pliku tekstowego możemy wczytać w następujący sposób:"
   ]
  },
  {
   "cell_type": "code",
   "execution_count": 101,
   "id": "588d12ec",
   "metadata": {},
   "outputs": [
    {
     "name": "stdout",
     "output_type": "stream",
     "text": [
      "[[ 1.  2.  3.]\n",
      " [ 4.  5.  6.]\n",
      " [ 7.  8.  9.]\n",
      " [10. 11. 12.]]\n"
     ]
    }
   ],
   "source": [
    "data = np.loadtxt('dane.txt', delimiter=',')\n",
    "print(data)"
   ]
  },
  {
   "cell_type": "markdown",
   "id": "0e88ead3",
   "metadata": {},
   "source": [
    "Może się zdarzyć, że w pliku brakuje pewnych wartości:"
   ]
  },
  {
   "cell_type": "code",
   "execution_count": 102,
   "id": "69963b59",
   "metadata": {},
   "outputs": [],
   "source": [
    "with open('dane.txt', 'w') as f:\n",
    "    f.write('1, 2,  \\n')\n",
    "    f.write('4,  , 6\\n')\n",
    "    f.write('7, 8, 9\\n')"
   ]
  },
  {
   "cell_type": "markdown",
   "id": "49cba32f",
   "metadata": {},
   "source": [
    "Wówczas możemy wczytać dane w następujący sposób:"
   ]
  },
  {
   "cell_type": "code",
   "execution_count": 103,
   "id": "bc261a1c",
   "metadata": {},
   "outputs": [
    {
     "data": {
      "text/plain": [
       "array([[ 1.,  2., nan],\n",
       "       [ 4., nan,  6.],\n",
       "       [ 7.,  8.,  9.]])"
      ]
     },
     "execution_count": 103,
     "metadata": {},
     "output_type": "execute_result"
    }
   ],
   "source": [
    "np.genfromtxt(\"dane.txt\", delimiter=\",\")"
   ]
  },
  {
   "cell_type": "markdown",
   "id": "9895c4e0",
   "metadata": {},
   "source": [
    "albo określając wartość dla brakujących danych, w tym przypadku -1:"
   ]
  },
  {
   "cell_type": "code",
   "execution_count": 104,
   "id": "34cafaf5",
   "metadata": {},
   "outputs": [
    {
     "data": {
      "text/plain": [
       "array([[ 1,  2, -1],\n",
       "       [ 4, -1,  6],\n",
       "       [ 7,  8,  9]], dtype=int8)"
      ]
     },
     "execution_count": 104,
     "metadata": {},
     "output_type": "execute_result"
    }
   ],
   "source": [
    "np.genfromtxt(\"dane.txt\", delimiter=\",\", dtype=np.int8, filling_values=-1)"
   ]
  },
  {
   "cell_type": "markdown",
   "id": "260fd562",
   "metadata": {},
   "source": [
    "Używając funkcji [numpy.save](https://numpy.org/doc/stable/reference/generated/numpy.save.html#numpy.save) możemy zapisywać tablice NumPy do pliku binarnego w formacie [.npy](https://numpy.org/doc/stable/reference/generated/numpy.lib.format.html#module-numpy.lib.format). Funkcja ta pozwala zapisywać tablice o dowolnych wymiarach:"
   ]
  },
  {
   "cell_type": "code",
   "execution_count": 105,
   "id": "d76bb6ca",
   "metadata": {},
   "outputs": [],
   "source": [
    "t = np.random.standard_normal((4,3,5))\n",
    "\n",
    "with open('dane.npy', 'wb') as f:\n",
    "    np.save(f, t, allow_pickle=False)\n",
    "    np.save(f, np.array([[1,2,5],[6,8,9]]), allow_pickle=False)"
   ]
  },
  {
   "cell_type": "markdown",
   "id": "33fe136d",
   "metadata": {},
   "source": [
    "Został utworzony plik binarny dane.npy.\n",
    "\n",
    "Moduł pickle pozwala na serializację i deserializację obiektów Pythona. Serializacja (ang. *pickling*) to proces przekształcania obiektu w ciąg bajtów a deserializacja to proces odwrotny. My jednak opcję allow_pickle ustawiliśmy na False, co jest zalecane ze względów bezpieczeństwa. Przy zapisie problemu nie ma, bo wiemy co zapisujemy. Niestety, nie zawsze wiemy co dokładnie wczytujemy, a wczytywanie danych za pomocą modułu pickle umożliwia wykonanie dowolnego kodu. Dlatego może to być niebezpieczne."
   ]
  },
  {
   "cell_type": "markdown",
   "id": "b717cb4d",
   "metadata": {},
   "source": [
    "Za pomocą funkcji [numpy.load](https://numpy.org/doc/stable/reference/generated/numpy.load.html) możemy wczytać nasze dane:"
   ]
  },
  {
   "cell_type": "code",
   "execution_count": 106,
   "id": "a8361340",
   "metadata": {},
   "outputs": [
    {
     "name": "stdout",
     "output_type": "stream",
     "text": [
      "[[[ 0.43198239  0.76517552 -0.27414415 -0.53742608  1.42950869]\n",
      "  [-0.8268831   0.28459787  1.53179074 -0.18971668  2.09507255]\n",
      "  [-1.49497762  0.53016119 -0.18968806  0.93902509  0.77618078]]\n",
      "\n",
      " [[-0.30591667 -0.11088805 -0.53517111  1.29859223  0.77370337]\n",
      "  [-1.17355823 -0.35956313 -0.32690756  0.25538425 -0.96069863]\n",
      "  [-0.20530653  0.54648051  1.00888918  0.12460916  2.70038954]]\n",
      "\n",
      " [[-1.43877992 -1.63120057 -0.77763555  0.98190503  0.3842365 ]\n",
      "  [-0.25580525 -0.72825817  0.57158306  0.85058663 -2.07744319]\n",
      "  [-0.15189703  1.12867801  0.44468823  1.19331032  0.43978774]]\n",
      "\n",
      " [[-0.70660721 -0.9341411   1.48875749 -0.38784611 -0.39451257]\n",
      "  [-0.28563851 -0.08630659  0.65305733  0.37157336 -0.35627118]\n",
      "  [-0.61086137  0.22535469 -0.00886386  0.13359583  0.89135498]]]\n",
      "[[1 2 5]\n",
      " [6 8 9]]\n"
     ]
    }
   ],
   "source": [
    "with open('dane.npy', 'rb') as f:\n",
    "    t1 = np.load(f)\n",
    "    t2 = np.load(f)\n",
    "\n",
    "print(t1)\n",
    "print(t2)"
   ]
  },
  {
   "cell_type": "markdown",
   "id": "3f39dbbf",
   "metadata": {},
   "source": [
    "Opcja allow_pickle jest domyślnie ustawiona na False, więc jesteśmy bezpieczni."
   ]
  },
  {
   "cell_type": "markdown",
   "id": "25efaea0",
   "metadata": {},
   "source": [
    "Moża też za jednym razem zapisać słownik tablic za pomocą funkcji [numpy.savez](https://numpy.org/doc/stable/reference/generated/numpy.savez.html#numpy.savez) lub [numpy.savez_compressed](https://numpy.org/doc/stable/reference/generated/numpy.savez_compressed.html#numpy.savez_compressed):"
   ]
  },
  {
   "cell_type": "code",
   "execution_count": 107,
   "id": "92bc0dae",
   "metadata": {},
   "outputs": [],
   "source": [
    "t1 = np.random.standard_normal((4,3,5))\n",
    "t2 = np.random.standard_normal((4,3))\n",
    "t3 = np.random.standard_normal((3,5))\n",
    "\n",
    "table_dict = {'a':t1, 'b':t2, 'c':t3}\n",
    "\n",
    "#np.savez('tablice.npz', **table_dict)\n",
    "np.savez_compressed('tablice.npz', **table_dict)"
   ]
  },
  {
   "cell_type": "code",
   "execution_count": 108,
   "id": "29a2a840",
   "metadata": {},
   "outputs": [
    {
     "data": {
      "text/plain": [
       "['a', 'b', 'c']"
      ]
     },
     "execution_count": 108,
     "metadata": {},
     "output_type": "execute_result"
    }
   ],
   "source": [
    "ts = np.load('tablice.npz')\n",
    "    \n",
    "ts.files"
   ]
  },
  {
   "cell_type": "code",
   "execution_count": 109,
   "id": "64db278a",
   "metadata": {},
   "outputs": [
    {
     "data": {
      "text/plain": [
       "array([[[ 0.33545194,  0.20733544,  0.87089974, -0.49097498,\n",
       "         -0.21585496],\n",
       "        [ 0.50091149, -1.79316118, -1.5045626 , -1.34071632,\n",
       "         -1.55141921],\n",
       "        [-1.52622152,  1.34946268,  0.02788442, -1.31134704,\n",
       "         -1.76304225]],\n",
       "\n",
       "       [[-1.26935963, -1.81560529, -2.68534423, -1.42083884,\n",
       "          0.91491879],\n",
       "        [ 0.59473372, -0.60032605, -1.47885212,  0.78409638,\n",
       "          0.50811304],\n",
       "        [-0.12515731,  0.47320684, -0.28468167,  0.05661884,\n",
       "          2.20917298]],\n",
       "\n",
       "       [[-0.05867462,  1.43810898, -1.41925651, -0.24052975,\n",
       "         -0.46179046],\n",
       "        [-0.52301175, -0.59579182,  1.08884229, -0.41760335,\n",
       "         -0.89680626],\n",
       "        [ 1.05178985, -0.28304001, -1.1806953 , -0.06865928,\n",
       "         -1.35493438]],\n",
       "\n",
       "       [[-0.07306089,  0.28919599, -0.78819958, -0.7803307 ,\n",
       "         -0.26285095],\n",
       "        [ 0.24865648, -0.19518184,  0.98802196, -1.05987737,\n",
       "          0.89548436],\n",
       "        [ 0.76943758, -0.5786284 , -1.43572727,  0.14832254,\n",
       "          0.15592779]]])"
      ]
     },
     "execution_count": 109,
     "metadata": {},
     "output_type": "execute_result"
    }
   ],
   "source": [
    "ts['a']"
   ]
  },
  {
   "cell_type": "code",
   "execution_count": null,
   "id": "79cf4a4d",
   "metadata": {},
   "outputs": [],
   "source": []
  }
 ],
 "metadata": {
  "kernelspec": {
   "display_name": "Python 3 (ipykernel)",
   "language": "python",
   "name": "python3"
  },
  "language_info": {
   "codemirror_mode": {
    "name": "ipython",
    "version": 3
   },
   "file_extension": ".py",
   "mimetype": "text/x-python",
   "name": "python",
   "nbconvert_exporter": "python",
   "pygments_lexer": "ipython3",
   "version": "3.10.9"
  }
 },
 "nbformat": 4,
 "nbformat_minor": 5
}
